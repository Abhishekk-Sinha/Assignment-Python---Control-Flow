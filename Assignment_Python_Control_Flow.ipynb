{
  "cells": [
    {
      "cell_type": "markdown",
      "metadata": {
        "id": "Pyo5RApi5UOW"
      },
      "source": [
        "1. Write a Python program to check if a given number is positive or negative.\n"
      ]
    },
    {
      "cell_type": "code",
      "execution_count": null,
      "metadata": {
        "colab": {
          "base_uri": "https://localhost:8080/"
        },
        "id": "xxiNVSyO5QT_",
        "outputId": "7cdd50e8-9c24-4475-e654-3c6e73782164"
      },
      "outputs": [
        {
          "name": "stdout",
          "output_type": "stream",
          "text": [
            "Enter a number: -1\n",
            "THe number is negative\n"
          ]
        }
      ],
      "source": [
        "def check_number(num):\n",
        "  if num > 0:\n",
        "    print(\"The numbers is positive\")\n",
        "  elif num < 0:\n",
        "    print(\"THe number is negative\")\n",
        "  else:\n",
        "    print(\"the num is 0\")\n",
        "\n",
        "#Driver code\n",
        "num = float(input(\"Enter a number: \"))\n",
        "check_number(num)\n"
      ]
    },
    {
      "cell_type": "markdown",
      "metadata": {
        "id": "F91i-RlX5d7L"
      },
      "source": [
        "2. Create a program that determines if a person is eligible to vote based on their age.\n"
      ]
    },
    {
      "cell_type": "code",
      "execution_count": null,
      "metadata": {
        "colab": {
          "base_uri": "https://localhost:8080/"
        },
        "id": "wiy9mmn85gfA",
        "outputId": "ec073058-2ddd-4f20-b6f4-1841a23b7199"
      },
      "outputs": [
        {
          "name": "stdout",
          "output_type": "stream",
          "text": [
            "Enter Person age: 13\n",
            "Not eligible for vote\n",
            "None\n"
          ]
        }
      ],
      "source": [
        "def vote_eligible(persons):\n",
        "  if person_age >= 18:\n",
        "    print(\"Eligible for vote\")\n",
        "  else:\n",
        "    print(\"Not eligible for vote\")\n",
        "\n",
        "person_age = int(input(\"Enter Person age: \"))\n",
        "result = vote_eligible(person_age)\n",
        "print(result)"
      ]
    },
    {
      "cell_type": "markdown",
      "metadata": {
        "id": "PrDezsgC5gzk"
      },
      "source": [
        "3. Develop a program to find the maximum of two numbers using if-else statements.\n"
      ]
    },
    {
      "cell_type": "code",
      "execution_count": null,
      "metadata": {
        "colab": {
          "base_uri": "https://localhost:8080/"
        },
        "id": "XXmOm9kp5kFz",
        "outputId": "26c6544a-37a7-4281-c317-2d06eb618f8a"
      },
      "outputs": [
        {
          "name": "stdout",
          "output_type": "stream",
          "text": [
            "Enter the second number: 44\n",
            "The maximum of 23.0 and 44.0 is 44.0\n"
          ]
        }
      ],
      "source": [
        "def find_maximum(num1, num2):\n",
        "    if num1 > num2:\n",
        "        max_number = num1\n",
        "    else:\n",
        "        max_number = num2\n",
        "    return max_number\n",
        "\n",
        "# Example usage\n",
        "num1 = float(input(\"Enter the first number: \"))\n",
        "num2 = float(input(\"Enter the second number: \"))\n",
        "maximum = find_maximum(num1, num2)\n",
        "print(\"The maximum of\", num1, \"and\", num2, \"is\", maximum)\n"
      ]
    },
    {
      "cell_type": "markdown",
      "metadata": {
        "id": "p_zKN0725kbv"
      },
      "source": [
        "4. Write a Python script to classify a given year as a leap year or not.\n"
      ]
    },
    {
      "cell_type": "code",
      "execution_count": null,
      "metadata": {
        "colab": {
          "base_uri": "https://localhost:8080/"
        },
        "id": "JmvkPXKT5mEu",
        "outputId": "cc8bb58f-da9d-4038-dcee-166d76fe0367"
      },
      "outputs": [
        {
          "name": "stdout",
          "output_type": "stream",
          "text": [
            "enter the year2025\n",
            "2025 is not leap year\n"
          ]
        }
      ],
      "source": [
        "Leap_year = int(input(\"enter the year\"))\n",
        "if (Leap_year % 4 == 0 and Leap_year % 100 != 0) or (Leap_year % 400 == 0):\n",
        "  print(f\"{Leap_year} is a leap year. \")\n",
        "else:\n",
        "  print(f\"{Leap_year} is not leap year\")\n"
      ]
    },
    {
      "cell_type": "markdown",
      "metadata": {
        "id": "wpao3f3s5mYn"
      },
      "source": [
        "5. Create a program that checks whether a character is a vowel or a consonant.\n"
      ]
    },
    {
      "cell_type": "code",
      "execution_count": null,
      "metadata": {
        "colab": {
          "base_uri": "https://localhost:8080/"
        },
        "id": "JDQB_O8Z5ovG",
        "outputId": "c230d6f5-2564-4600-84bd-64e97e7cbaf8"
      },
      "outputs": [
        {
          "name": "stdout",
          "output_type": "stream",
          "text": [
            "Enter the character :c\n",
            "c is consonant\n"
          ]
        }
      ],
      "source": [
        "def char_vol_or_consonant(char):\n",
        "  vowels = 'aeiouAEIOU'\n",
        "  if char.isalpha() and len(char) == 1:\n",
        "    if char in vowels:\n",
        "      return(f\" {char} is vowels\")\n",
        "    else:\n",
        "      return(f\"{char} is consonant\")\n",
        "\n",
        "character = input(\"Enter the character :\")\n",
        "result = char_vol_or_consonant(character)\n",
        "print(result)\n"
      ]
    },
    {
      "cell_type": "markdown",
      "metadata": {
        "id": "1kER2MJR5o-v"
      },
      "source": [
        "6. Implement a program to determine whether a given number is even or odd.\n"
      ]
    },
    {
      "cell_type": "code",
      "execution_count": null,
      "metadata": {
        "colab": {
          "base_uri": "https://localhost:8080/"
        },
        "id": "_X9MXCn05r13",
        "outputId": "2476cf82-92ff-4939-a9e7-1874cbe9b122"
      },
      "outputs": [
        {
          "name": "stdout",
          "output_type": "stream",
          "text": [
            "Enter the number :23\n",
            "23 is odd\n"
          ]
        }
      ],
      "source": [
        "def check_even_or_odd(num):\n",
        "  if num % 2 == 0:\n",
        "    return f\"{num} is even\"\n",
        "  else:\n",
        "    return f\"{num} is odd\"\n",
        "\n",
        "\n",
        "Number = int(input(\"Enter the number :\"))\n",
        "result = check_even_or_odd(Number)\n",
        "print(result)\n"
      ]
    },
    {
      "cell_type": "markdown",
      "metadata": {
        "id": "t2HDTasx5sJt"
      },
      "source": [
        "7. Write a Python function to calculate the absolute value of a number without using the `abs()` function.\n"
      ]
    },
    {
      "cell_type": "code",
      "execution_count": null,
      "metadata": {
        "colab": {
          "base_uri": "https://localhost:8080/"
        },
        "id": "u51r3AnFj2PC",
        "outputId": "ee7b42fb-f53e-4746-ab89-c682795b1a53"
      },
      "outputs": [
        {
          "name": "stdout",
          "output_type": "stream",
          "text": [
            "Enter a number :-5\n",
            "Absolute value : 5.0\n"
          ]
        }
      ],
      "source": [
        "def absolute_value(number):\n",
        "  if number < 0:\n",
        "    return -number\n",
        "  else:\n",
        "    return number\n",
        "\n",
        "num = float(input(\"Enter a number :\"))\n",
        "result = absolute_value(num)\n",
        "print(\"Absolute value :\", result)"
      ]
    },
    {
      "cell_type": "markdown",
      "metadata": {
        "id": "jilb4Ln25uNE"
      },
      "source": [
        "8. Develop a program that determines the largest of three given numbers using if-else statements.\n"
      ]
    },
    {
      "cell_type": "code",
      "execution_count": null,
      "metadata": {
        "colab": {
          "base_uri": "https://localhost:8080/"
        },
        "id": "v1vUvqRo5v2h",
        "outputId": "99777011-c4c5-478b-d29b-13218e8e4833"
      },
      "outputs": [
        {
          "name": "stdout",
          "output_type": "stream",
          "text": [
            "Enter the First number :12\n",
            "Enter the Second number :34\n",
            "Enter the third number :19\n",
            "The largest number is : 34.0\n"
          ]
        }
      ],
      "source": [
        "def find_largest(num1, num2, num3):\n",
        "  if num1 >= num2 and num1 >= num3:\n",
        "    return num1\n",
        "  elif num2 >= num1 and num2 >= num3:\n",
        "    return num2\n",
        "  else:\n",
        "    return num3\n",
        "\n",
        "num1 = float(input(\"Enter the First number :\"))\n",
        "num2 = float(input(\"Enter the Second number :\"))\n",
        "num3 = float(input(\"Enter the third number :\"))\n",
        "\n",
        "largest = find_largest(num1, num2, num3)\n",
        "print(\"The largest number is :\", largest)"
      ]
    },
    {
      "cell_type": "markdown",
      "metadata": {
        "id": "kFt4f8Cs5wF4"
      },
      "source": [
        "9. Create a program that checks if a given string is a palindrome.\n"
      ]
    },
    {
      "cell_type": "code",
      "execution_count": null,
      "metadata": {
        "colab": {
          "base_uri": "https://localhost:8080/"
        },
        "id": "Wel3iaXj5x7X",
        "outputId": "6738b6db-bd31-4c5b-a73f-53c1a6fcfbc4"
      },
      "outputs": [
        {
          "name": "stdout",
          "output_type": "stream",
          "text": [
            "Enter a string: pop\n",
            "pop is palindrome\n"
          ]
        }
      ],
      "source": [
        "def check_palindrome(string):\n",
        "    # Remove spaces and convert to lowercase for case insensitivity\n",
        "    string = string.replace(\" \", \"\").lower()\n",
        "\n",
        "    if string == string[::-1]:\n",
        "        return f\"{string} is palindrome\"\n",
        "    else:\n",
        "        return f\"{string} is not palindrome\"\n",
        "\n",
        "input_string = input(str(\"Enter a string: \"))\n",
        "result = check_palindrome(input_string)\n",
        "print(result)\n",
        "\n"
      ]
    },
    {
      "cell_type": "markdown",
      "metadata": {
        "id": "TbSxAFHW5yQs"
      },
      "source": [
        "10. Write a Python program to calculate the grade based on a student's score.\n",
        "Nested If-Else Statements:\n"
      ]
    },
    {
      "cell_type": "code",
      "execution_count": null,
      "metadata": {
        "colab": {
          "base_uri": "https://localhost:8080/"
        },
        "id": "1jXLBLTO50PB",
        "outputId": "84e8969e-ef58-4ab5-ddda-0b1cccf914b5"
      },
      "outputs": [
        {
          "name": "stdout",
          "output_type": "stream",
          "text": [
            "Enter the studen's score: 90\n",
            "The student's grade is A. \n"
          ]
        }
      ],
      "source": [
        "def calculate_grade(score):\n",
        "  if score >= 90:\n",
        "    grade = 'A'\n",
        "  elif score >= 80:\n",
        "    grade = 'B'\n",
        "  elif score >= 70:\n",
        "    grade = 'C'\n",
        "  elif score >= 60:\n",
        "    grade = 'd'\n",
        "  elif score >= 50:\n",
        "    grade = 'E'\n",
        "  elif score >= 40:\n",
        "    grade = 'F'\n",
        "  return grade\n",
        "\n",
        "score = float(input(\"Enter the studen's score: \"))\n",
        "\n",
        "if score >= 0 and score <= 100:\n",
        "  grade = calculate_grade(score)\n",
        "  print(f\"The student's grade is {grade}. \")\n",
        "else:\n",
        "  print(\"Invalid score!\")"
      ]
    },
    {
      "cell_type": "markdown",
      "metadata": {
        "id": "bRVS8Alv50hJ"
      },
      "source": [
        "11. Write a program to find the largest among three numbers using nested if-else statements.\n"
      ]
    },
    {
      "cell_type": "code",
      "execution_count": null,
      "metadata": {
        "colab": {
          "base_uri": "https://localhost:8080/"
        },
        "id": "l-JP49Fm5226",
        "outputId": "751db8d8-349e-42c4-a021-8b3c10a953f0"
      },
      "outputs": [
        {
          "name": "stdout",
          "output_type": "stream",
          "text": [
            "Enter the First number :80.1\n",
            "Enter the Second number :80.01\n",
            "Enter the third number :80.011111\n",
            "The largest number is : 80.1\n"
          ]
        }
      ],
      "source": [
        "def find_largest(num1, num2, num3):\n",
        "  if num1 >= num2 and num1 >= num3:\n",
        "    return num1\n",
        "  elif num2 >= num1 and num2 >= num3:\n",
        "    return num2\n",
        "  else:\n",
        "    return num3\n",
        "\n",
        "num1 = float(input(\"Enter the First number :\"))\n",
        "num2 = float(input(\"Enter the Second number :\"))\n",
        "num3 = float(input(\"Enter the third number :\"))\n",
        "\n",
        "largest = find_largest(num1, num2, num3)\n",
        "print(\"The largest number is :\", largest)"
      ]
    },
    {
      "cell_type": "markdown",
      "metadata": {
        "id": "HdnEOz0z53Lg"
      },
      "source": [
        "12. Implement a program to determine if a triangle is equilateral, isosceles, or scalene.\n"
      ]
    },
    {
      "cell_type": "code",
      "execution_count": null,
      "metadata": {
        "colab": {
          "base_uri": "https://localhost:8080/"
        },
        "id": "96O-pEuzvgj6",
        "outputId": "a283632e-9559-4418-c2b1-4528505b7084"
      },
      "outputs": [
        {
          "name": "stdout",
          "output_type": "stream",
          "text": [
            "Enter the length of the first side: 3\n",
            "Enter the length of the second side: 4\n",
            "Enter the length of the third side: 5\n",
            "The triangle is Scalence triangle \n"
          ]
        }
      ],
      "source": [
        "def triangle_type(side1, side2, side3):\n",
        "  if side1 == side2 == side3:\n",
        "    return \"Equilateral triangle\"\n",
        "  elif side1 == side2 or side1 == side3 or side2 == side3:\n",
        "    return \"Isosceles triangle\"\n",
        "  else:\n",
        "    return \"Scalence triangle\"\n",
        "\n",
        "side1 = float(input(\"Enter the length of the first side: \"))\n",
        "side2 = float(input(\"Enter the length of the second side: \"))\n",
        "side3 = float(input(\"Enter the length of the third side: \"))\n",
        "\n",
        "result = triangle_type(side1, side2, side3)\n",
        "print(f\"The triangle is {result} \")\n"
      ]
    },
    {
      "cell_type": "markdown",
      "metadata": {
        "id": "PDZZUNHcvhEx"
      },
      "source": [
        "13. Develop a program that checks if a year is a leap year and also if it is a century year.\n"
      ]
    },
    {
      "cell_type": "code",
      "execution_count": null,
      "metadata": {
        "colab": {
          "base_uri": "https://localhost:8080/"
        },
        "id": "wVd2-BZZvnX4",
        "outputId": "eceedcd0-5324-4166-c85b-dc6eae50bc85"
      },
      "outputs": [
        {
          "name": "stdout",
          "output_type": "stream",
          "text": [
            "Enter a year :600\n",
            "600 is not a leap year\n",
            "600 is a century year\n",
            "None\n"
          ]
        }
      ],
      "source": [
        "def Leap_year(year):\n",
        "  return (year % 4 == 0 and year % 100 != 0) or (year % 400 == 0)\n",
        "\n",
        "def centuray_year(year):\n",
        "  return year % 100 == 0\n",
        "\n",
        "def main():\n",
        "  year = int(input(\"Enter a year :\"))\n",
        "\n",
        "  if Leap_year(year):\n",
        "    print(year, \"is a leap year\")\n",
        "  else:\n",
        "    print(year, \"is not a leap year\" )\n",
        "\n",
        "  if centuray_year(year):\n",
        "    print(year, \"is a century year\")\n",
        "  else:\n",
        "    print(year, \"is not a century year\")\n",
        "\n",
        "result = main()\n",
        "print(result)"
      ]
    },
    {
      "cell_type": "markdown",
      "metadata": {
        "id": "omT3gFm0vnv6"
      },
      "source": [
        "14. Write a Python script to determine if a number is positive, negative, or zero.\n"
      ]
    },
    {
      "cell_type": "code",
      "execution_count": null,
      "metadata": {
        "colab": {
          "base_uri": "https://localhost:8080/"
        },
        "id": "v5yPZnCvvroE",
        "outputId": "81f2c434-f1e2-46d6-d12c-7aa675c7f890"
      },
      "outputs": [
        {
          "name": "stdout",
          "output_type": "stream",
          "text": [
            "Enter a number: 9\n",
            "The number is:  Positive\n"
          ]
        }
      ],
      "source": [
        "def check_number(number):\n",
        "  if number > 0:\n",
        "    return \"Positive\"\n",
        "  elif number < 0:\n",
        "    return \"Negative\"\n",
        "  else:\n",
        "    return \"Zero\"\n",
        "\n",
        "number = float(input(\"Enter a number: \"))\n",
        "result = check_number(number)\n",
        "print(\"The number is: \", result)\n"
      ]
    },
    {
      "cell_type": "markdown",
      "metadata": {
        "id": "sK-n1UnrvsAp"
      },
      "source": [
        "15. Create a program to check if a person is a teen-ager (between 13 and 19 years old).\n"
      ]
    },
    {
      "cell_type": "code",
      "execution_count": null,
      "metadata": {
        "colab": {
          "base_uri": "https://localhost:8080/"
        },
        "id": "KROokUz0vvw2",
        "outputId": "d02e62d6-db49-44a4-e907-ccab694a2438"
      },
      "outputs": [
        {
          "name": "stdout",
          "output_type": "stream",
          "text": [
            "Enter your age18\n",
            "You are teenager\n",
            "None\n"
          ]
        }
      ],
      "source": [
        "def person(age):\n",
        "  if 13 <= age <= 19:\n",
        "    print(\"You are teenager\")\n",
        "  else:\n",
        "    print(\"You are not teenager\")\n",
        "\n",
        "age = int(input(\"Enter your age\"))\n",
        "result = person(age)\n",
        "print(result)"
      ]
    },
    {
      "cell_type": "markdown",
      "metadata": {
        "id": "eL37TC54vwKZ"
      },
      "source": [
        "16. Develop a program that determines the type of angle based on its measure (acute, obtuse, or right).\n"
      ]
    },
    {
      "cell_type": "code",
      "execution_count": null,
      "metadata": {
        "colab": {
          "base_uri": "https://localhost:8080/"
        },
        "id": "DGlBWBs9v0jE",
        "outputId": "45bee6de-60fb-41ad-f1e1-fdefab88a8b6"
      },
      "outputs": [
        {
          "name": "stdout",
          "output_type": "stream",
          "text": [
            "Enter the measure of the angle in degrees :70\n",
            "The angle is Acute angle \n"
          ]
        }
      ],
      "source": [
        "def angle_type(angle):\n",
        "  if angle > 0 and angle < 90:\n",
        "    return \"Acute angle \"\n",
        "  elif angle == 90:\n",
        "    return \"Right angle\"\n",
        "  elif angle > 90 and angle < 180:\n",
        "    return \"Obtuse angle\"\n",
        "\n",
        "angle = float(input(\"Enter the measure of the angle in degrees :\"))\n",
        "print(\"The angle is\", angle_type(angle))"
      ]
    },
    {
      "cell_type": "markdown",
      "metadata": {
        "id": "n7CtQ_K4v03l"
      },
      "source": [
        "17. Write a Python program to calculate the roots of a quadratic equation.\n"
      ]
    },
    {
      "cell_type": "code",
      "execution_count": null,
      "metadata": {
        "colab": {
          "base_uri": "https://localhost:8080/"
        },
        "id": "rGdXi36Kv4e9",
        "outputId": "173a4161-c342-4914-912f-669dc0656804"
      },
      "outputs": [
        {
          "name": "stdout",
          "output_type": "stream",
          "text": [
            "enter the cofficient of x^2 (a) : 81\n",
            "enter the cofficient of x(b): 2\n",
            "enter the constent term (c): 3\n",
            "The roots are complex numbers:\n",
            "Root 1: (-0.012345679012345678+0.19205369365560548j)\n",
            "Root 2: (-0.012345679012345678+0.19205369365560548j)\n"
          ]
        }
      ],
      "source": [
        "import math\n",
        "\n",
        "def calculate_roots(a, b, c):\n",
        "  discriminant = b**2 - 4*a*c\n",
        "\n",
        "  if discriminant > 0:\n",
        "    root1 = (-b + math.sqrt(discriminant))/(2*a)\n",
        "    root2 = (-b + math.sqrt(discriminant))/(2*a)\n",
        "  elif discriminant == 0:\n",
        "    root = -b / (2*a)\n",
        "  else:\n",
        "    real_part = -b / (2*a)\n",
        "    imaginary_part = math.sqrt(abs(discriminant))/ (2*a)\n",
        "    root1 = complex(real_part, imaginary_part)\n",
        "    root2 = complex(real_part, imaginary_part)\n",
        "    return root1, root2\n",
        "\n",
        "a = float(input(\"enter the cofficient of x^2 (a) : \"))\n",
        "b = float(input(\"enter the cofficient of x(b): \"))\n",
        "c = float(input(\"enter the constent term (c): \"))\n",
        "\n",
        "roots = calculate_roots(a, b, c)\n",
        "if isinstance(roots[0], complex):\n",
        "  print(\"The roots are complex numbers:\")\n",
        "  print(\"Root 1:\", roots[0])\n",
        "  print(\"Root 2:\", roots[1])\n",
        "else:\n",
        "  print(\"The roots are real numbers:\")\n",
        "  print(\"Root 1:\", roots[0])\n",
        "  print(\"Root 2:\", roots[1])\n"
      ]
    },
    {
      "cell_type": "markdown",
      "metadata": {
        "id": "2Vzm2mTTv4zD"
      },
      "source": [
        "18. Implement a program to determine the day of the week based on a user-provided number (1 for Monday, 2\n",
        "for Tuesday, etc.).\n"
      ]
    },
    {
      "cell_type": "code",
      "execution_count": null,
      "metadata": {
        "colab": {
          "base_uri": "https://localhost:8080/"
        },
        "id": "fERjSuamv8RN",
        "outputId": "5b7c0cf1-0f47-4f97-d86c-0b74a6386ea3"
      },
      "outputs": [
        {
          "name": "stdout",
          "output_type": "stream",
          "text": [
            "Enter a number (1 for Monday, 2 for Tuesday, etc.): 6\n",
            "the day of the week is :  Saturday\n"
          ]
        }
      ],
      "source": [
        "def get_day_of_week(day_number):\n",
        "  days_of_week =  [\"Monday\", \"Tuesday\", \"Wednesday\", \"Thursday\", \"Friday\", \"Saturday\", \"Sunday\"]\n",
        "\n",
        "  if day_number >= 1 and day_number <=7:\n",
        "    return days_of_week[day_number - 1]\n",
        "  else:\n",
        "    return \"Invalid day number\"\n",
        "\n",
        "day_number = int(input(\"Enter a number (1 for Monday, 2 for Tuesday, etc.): \"))\n",
        "day_of_week = get_day_of_week(day_number)\n",
        "print(\"the day of the week is : \", day_of_week)\n",
        "\n"
      ]
    },
    {
      "cell_type": "markdown",
      "metadata": {
        "id": "L2Kodz7Vv8m1"
      },
      "source": [
        "19. Create a program that determines if a year is a leap year and also if it is evenly divisible by 400.\n"
      ]
    },
    {
      "cell_type": "code",
      "execution_count": null,
      "metadata": {
        "colab": {
          "base_uri": "https://localhost:8080/"
        },
        "id": "BVWmtR5pv_s2",
        "outputId": "7fd1a49e-9caa-4870-a3aa-b2eb88b7b55f"
      },
      "outputs": [
        {
          "name": "stdout",
          "output_type": "stream",
          "text": [
            "Enter the year: 400\n",
            "400 is a leap year and is evenly divisible by 400.\n"
          ]
        }
      ],
      "source": [
        "def is_leap_year(year):\n",
        "  if year % 400 == 0:\n",
        "    return True\n",
        "  elif year % 100 == 0:\n",
        "    return False\n",
        "  elif year % 4 == 0:\n",
        "    return True\n",
        "  else:\n",
        "    return False\n",
        "year = int(input(\"Enter the year: \"))\n",
        "if is_leap_year(year):\n",
        "  print(year, \"is a leap year and is evenly divisible by 400.\")\n",
        "else:\n",
        "  print(year, \"is not a leap year or is not evenly divisible by 400.\")\n"
      ]
    },
    {
      "cell_type": "markdown",
      "metadata": {
        "id": "TtqblH7OwAYs"
      },
      "source": [
        "20. Develop a program that checks if a given number is prime or not using nested if-else statements.\n"
      ]
    },
    {
      "cell_type": "code",
      "execution_count": null,
      "metadata": {
        "colab": {
          "base_uri": "https://localhost:8080/"
        },
        "id": "o1LjyfwmwFBR",
        "outputId": "b38903ec-8700-4ebd-f065-2b9b9d07f4f8"
      },
      "outputs": [
        {
          "name": "stdout",
          "output_type": "stream",
          "text": [
            "Enter a number :6\n",
            "6 is not a prime number.\n"
          ]
        }
      ],
      "source": [
        "def is_prime_number(number):\n",
        "  if number <=1:\n",
        "    return False\n",
        "  elif number <=3:\n",
        "    return True\n",
        "  else:\n",
        "    for i in range(2, int(number**0.5) + 1):\n",
        "      if number % i == 0:\n",
        "        return False\n",
        "      return True\n",
        "number = int(input(\"Enter a number :\"))\n",
        "if is_prime_number(number):\n",
        "  print(number, \"is a prime number.\")\n",
        "else:\n",
        "  print(number, \"is not a prime number.\")\n",
        "\n"
      ]
    },
    {
      "cell_type": "markdown",
      "metadata": {
        "id": "WYCrLYS2wFXS"
      },
      "source": [
        "Elif Statements:\n",
        "21. Write a Python program to assign grades based on different ranges of scores using elif statements.\n"
      ]
    },
    {
      "cell_type": "code",
      "execution_count": null,
      "metadata": {
        "colab": {
          "base_uri": "https://localhost:8080/"
        },
        "id": "e12CyWsRwJNi",
        "outputId": "1a35933e-2a7f-455d-87eb-2dcc5236af3f"
      },
      "outputs": [
        {
          "name": "stdout",
          "output_type": "stream",
          "text": [
            "Enter the score: 70\n",
            "The grade assigned for the score 70.0 is: C\n"
          ]
        }
      ],
      "source": [
        "def assign_grade(score):\n",
        "  if score >= 90:\n",
        "    return \"A\"\n",
        "  elif score >= 80:\n",
        "    return \"B\"\n",
        "  elif score >= 70:\n",
        "    return \"C\"\n",
        "  elif score >= 60:\n",
        "    return \"D\"\n",
        "  else:\n",
        "    return \"F\"\n",
        "\n",
        "score = float(input(\"Enter the score: \"))\n",
        "grade = assign_grade(score)\n",
        "print(\"The grade assigned for the score\", score, \"is:\", grade)\n",
        "\n"
      ]
    },
    {
      "cell_type": "markdown",
      "metadata": {
        "id": "7aLzR0TtwJiF"
      },
      "source": [
        "22. Implement a program to determine the type of a triangle based on its angles.\n"
      ]
    },
    {
      "cell_type": "code",
      "execution_count": null,
      "metadata": {
        "colab": {
          "base_uri": "https://localhost:8080/"
        },
        "id": "O3L1fY1bwNsP",
        "outputId": "646cede3-e0c0-4f4e-8723-f5d14d1bd6c8"
      },
      "outputs": [
        {
          "name": "stdout",
          "output_type": "stream",
          "text": [
            "Enter the measure of angle 1: 75\n",
            "Enter the measure of angle 2: 65\n",
            "Enter the measure of angle 3: 6\n",
            "The triangle is Invalid triangle\n"
          ]
        }
      ],
      "source": [
        "def triangle_type(angle1, angle2, angle3):\n",
        "  if angle1 + angle2 + angle3 == 180:\n",
        "    if angle1 == angle2 == angle3:\n",
        "      return \"Equilateral triangle\"\n",
        "    elif angle1 == 90 or angle2 == 90 or angle3 == 90:\n",
        "      return \"right angle triangle\"\n",
        "    elif angle1 > 90 or angle2 > 90 or angle3 > 90:\n",
        "      return \"Obtuse triangle\"\n",
        "    else:\n",
        "      return \"Acute angle triangle\"\n",
        "  else:\n",
        "    return \"Invalid triangle\"\n",
        "\n",
        "angle1 = float(input(\"Enter the measure of angle 1: \"))\n",
        "angle2 = float(input(\"Enter the measure of angle 2: \"))\n",
        "angle3 = float(input(\"Enter the measure of angle 3: \"))\n",
        "\n",
        "triangle = triangle_type(side1, side2, side3)\n",
        "print(\"The triangle is\", triangle)"
      ]
    },
    {
      "cell_type": "markdown",
      "metadata": {
        "id": "Jz9JP5lHwN98"
      },
      "source": [
        "23. Develop a program to categorize a given person's BMI into underweight, normal, overweight, or obese using\n",
        "elif statements.\n"
      ]
    },
    {
      "cell_type": "code",
      "execution_count": null,
      "metadata": {
        "colab": {
          "base_uri": "https://localhost:8080/"
        },
        "id": "UCKy5whBHFoF",
        "outputId": "98455b9c-e896-4482-d4a7-e814b36f9b52"
      },
      "outputs": [
        {
          "name": "stdout",
          "output_type": "stream",
          "text": [
            "Enter your weight in kilograms: 66\n",
            "Enter your height in meters: 5.10\n",
            "Your BMI is : 2.537485582468282\n",
            "Your are Underweight\n"
          ]
        }
      ],
      "source": [
        "def calculate_bmi(weight, height):\n",
        "  return weight / (height ** 2)\n",
        "\n",
        "def categorize_bmi(bmi):\n",
        "  if bmi < 18.5:\n",
        "    return \"Underweight\"\n",
        "  elif bmi < 25:\n",
        "    return \"Normal\"\n",
        "  elif bmi < 30:\n",
        "    return \"Overweight\"\n",
        "  else:\n",
        "    return \"Obese\"\n",
        "\n",
        "weight = float(input(\"Enter your weight in kilograms: \"))\n",
        "height = float(input(\"Enter your height in meters: \"))\n",
        "bmi = calculate_bmi(weight, height)\n",
        "category = categorize_bmi(bmi)\n",
        "\n",
        "print(\"Your BMI is :\", bmi)\n",
        "print(\"Your are\", category)"
      ]
    },
    {
      "cell_type": "markdown",
      "metadata": {
        "id": "i2NFgwuIHE9T"
      },
      "source": [
        "24. Create a program that determines whether a given number is positive, negative, or zero using elif\n",
        "statements.\n"
      ]
    },
    {
      "cell_type": "code",
      "execution_count": null,
      "metadata": {
        "colab": {
          "base_uri": "https://localhost:8080/"
        },
        "id": "lDp-TFiGHJZi",
        "outputId": "590bd910-c84d-4169-b204-452b5dc13fbf"
      },
      "outputs": [
        {
          "name": "stdout",
          "output_type": "stream",
          "text": [
            "Enter a number: -1\n",
            "The number is:  Negative\n"
          ]
        }
      ],
      "source": [
        "def check_number(number):\n",
        "  if number > 0:\n",
        "    return \"Positive\"\n",
        "  elif number < 0:\n",
        "    return \"Negative\"\n",
        "  else:\n",
        "    return \"Zero\"\n",
        "\n",
        "number = float(input(\"Enter a number: \"))\n",
        "result = check_number(number)\n",
        "print(\"The number is: \", result)\n"
      ]
    },
    {
      "cell_type": "markdown",
      "metadata": {
        "id": "D0bjAHbFHKxB"
      },
      "source": [
        "25. Write a Python script to determine the type of a character (uppercase, lowercase, or special) using elif\n",
        "statements.\n"
      ]
    },
    {
      "cell_type": "code",
      "execution_count": null,
      "metadata": {
        "colab": {
          "base_uri": "https://localhost:8080/"
        },
        "id": "aS1kMYgrHNQO",
        "outputId": "6657b58b-ac41-40e1-a440-862470c1e99c"
      },
      "outputs": [
        {
          "name": "stdout",
          "output_type": "stream",
          "text": [
            "Enter a character :@\n",
            "The character '@' is Special Character\n"
          ]
        }
      ],
      "source": [
        "def char_type(char):\n",
        "  if char.isupper():\n",
        "    return \"Uppercae\"\n",
        "  elif char.islower():\n",
        "    return \"Lowercase\"\n",
        "  else:\n",
        "    return \"Special Character\"\n",
        "\n",
        "character = input(\"Enter a character :\")\n",
        "\n",
        "if len(character) == 1:\n",
        "  print(f\"The character '{character}' is {char_type(character)}\")"
      ]
    },
    {
      "cell_type": "markdown",
      "metadata": {
        "id": "oSIV4fulHOCF"
      },
      "source": [
        "26. Implement a program to calculate the discounted price based on different purchase amounts using elif\n",
        "statements.\n"
      ]
    },
    {
      "cell_type": "code",
      "execution_count": null,
      "metadata": {
        "colab": {
          "base_uri": "https://localhost:8080/"
        },
        "id": "j3Ljsm34HJbg",
        "outputId": "b7810dfe-f147-45f2-9261-b44fb5e51116"
      },
      "outputs": [
        {
          "name": "stdout",
          "output_type": "stream",
          "text": [
            "Enter the purchase amount : Rs.1500\n",
            "Discounted price:  1350.0\n"
          ]
        }
      ],
      "source": [
        "def calculate_discounted_price(amount):\n",
        "  if amount >= 1000:\n",
        "    discount = 0.1 # 10% discount for purchases of 1000\n",
        "  elif amount >= 500:\n",
        "    discount = 0.05\n",
        "  else:\n",
        "    discount = 0\n",
        "\n",
        "  discounted_price = amount - (amount * discount)\n",
        "  return discounted_price\n",
        "\n",
        "amount = float(input(\"Enter the purchase amount : Rs.\"))\n",
        "discounted_price = calculate_discounted_price(amount)\n",
        "print(\"Discounted price: \", discounted_price)"
      ]
    },
    {
      "cell_type": "markdown",
      "metadata": {
        "id": "ib2plRWxwQlq"
      },
      "source": [
        "27. Develop a program to calculate the electricity bill based on different consumption slabs using elif\n",
        "statements.\n"
      ]
    },
    {
      "cell_type": "code",
      "execution_count": null,
      "metadata": {
        "colab": {
          "base_uri": "https://localhost:8080/"
        },
        "id": "XhcbSYvswPQg",
        "outputId": "b0a829fd-303b-4926-daf2-123f72c825f2"
      },
      "outputs": [
        {
          "name": "stdout",
          "output_type": "stream",
          "text": [
            "Enter the number of units consumed : 142\n",
            "Electricity bill amount :  94.0\n"
          ]
        }
      ],
      "source": [
        "def calculate_electricity_bill(units):\n",
        "  if units <= 50:  # First 50 units charged at $0.50 per unit\n",
        "    bill = units * 0.50\n",
        "  elif units <= 150:\n",
        "    bill = 25 + (units - 50) * 0.75 # Next 100 units charged at $0.75 per unit\n",
        "  elif units <= 250:\n",
        "      bill = 100 + (units - 150) * 1.20  # Next 100 units charged at $1.20 per unit\n",
        "  else:\n",
        "      bill = 220 + (units - 250) * 1.50  # Remaining units charged at $1.50 per unit\n",
        "  return bill\n",
        "\n",
        "units = float(input(\"Enter the number of units consumed : \"))\n",
        "bill_amount = calculate_electricity_bill(units)\n",
        "print(\"Electricity bill amount : \", bill_amount)\n"
      ]
    },
    {
      "cell_type": "markdown",
      "metadata": {
        "id": "besXWSosHT_U"
      },
      "source": [
        "28. Create a program to determine the type of quadrilateral based on its angles and sides using elif\n",
        "statements.\n"
      ]
    },
    {
      "cell_type": "code",
      "execution_count": null,
      "metadata": {
        "colab": {
          "base_uri": "https://localhost:8080/"
        },
        "id": "lcftSvHHHWvL",
        "outputId": "e1f7038b-e35b-4cdb-894a-5e2f5914b1c7"
      },
      "outputs": [
        {
          "name": "stdout",
          "output_type": "stream",
          "text": [
            "Enter the number of sides: 4\n",
            "Enter the measure of angle 1: 45\n",
            "Enter the measure of angle 2: 45\n",
            "Enter the measure of angle 3: 45\n",
            "Enter the measure of angle 4: 45\n",
            "Enter the length of side 1: 7\n",
            "Enter the length of side 2: 7\n",
            "Enter the length of side 3: 7\n",
            "Enter the length of side 4: 7\n",
            "The quadrilateral is a Rhombus\n"
          ]
        }
      ],
      "source": [
        "def quadrilateral_type(num_sides, angle1, angle2, angle3, angle4, side1, side2, side3, side4):\n",
        "  if num_sides == 4:\n",
        "    if angle1 == angle2 == angle3 == angle4 == 90:\n",
        "      return \"Square\"\n",
        "    elif angle1 == angle2 == angle3 == angle4:\n",
        "      if side1 == side2 == side3 == side4:\n",
        "        return \"Rhombus\"\n",
        "      else:\n",
        "        return \"Rectangle\"\n",
        "    elif side1 == side2 == side3 == side4:\n",
        "        return \"Parallelogram\"\n",
        "    else:\n",
        "      return \"Quadrilateral\"\n",
        "  else:\n",
        "      return \"Not a quadrilateral\"\n",
        "\n",
        "\n",
        "num_sides = int(input(\"Enter the number of sides: \"))\n",
        "angle1 = int(input(\"Enter the measure of angle 1: \"))\n",
        "angle2 = int(input(\"Enter the measure of angle 2: \"))\n",
        "angle3 = int(input(\"Enter the measure of angle 3: \"))\n",
        "angle4 = int(input(\"Enter the measure of angle 4: \"))\n",
        "side1 = float(input(\"Enter the length of side 1: \"))\n",
        "side2 = float(input(\"Enter the length of side 2: \"))\n",
        "side3 = float(input(\"Enter the length of side 3: \"))\n",
        "side4 = float(input(\"Enter the length of side 4: \"))\n",
        "\n",
        "quad_type = quadrilateral_type(num_sides, angle1, angle2, angle3, angle4, side1, side2, side3, side4)\n",
        "print(\"The quadrilateral is a\", quad_type)\n",
        "\n"
      ]
    },
    {
      "cell_type": "markdown",
      "metadata": {
        "id": "k9cLI29RHXIZ"
      },
      "source": [
        "29. Write a Python script to determine the season based on a user-provided month using elif statements.\n"
      ]
    },
    {
      "cell_type": "code",
      "execution_count": null,
      "metadata": {
        "colab": {
          "base_uri": "https://localhost:8080/"
        },
        "id": "UuuLjdjCHab6",
        "outputId": "04d6897f-812a-4ed9-8aa0-287a0f2d0e27"
      },
      "outputs": [
        {
          "name": "stdout",
          "output_type": "stream",
          "text": [
            "Enter the month (1 to 12) : 2\n",
            "Winter\n"
          ]
        }
      ],
      "source": [
        "def get_season(month):\n",
        "  if month in [3,4,5]:\n",
        "    return \"Spring\"\n",
        "  elif month in [6, 7, 8]:\n",
        "    return \"Summer\"\n",
        "  elif month in [12, 1, 2]:\n",
        "    return \"Winter\"\n",
        "  else:\n",
        "    return \"Invalid month\"\n",
        "\n",
        "month = int(input(\"Enter the month (1 to 12) : \"))\n",
        "result = get_season(month)\n",
        "print(result)\n"
      ]
    },
    {
      "cell_type": "markdown",
      "metadata": {
        "id": "Wxtk8sxjHask"
      },
      "source": [
        "30. Implement a program to determine the type of a year (leap or common) and month (30 or 31 days) using\n",
        "elif statements."
      ]
    },
    {
      "cell_type": "code",
      "execution_count": null,
      "metadata": {
        "colab": {
          "base_uri": "https://localhost:8080/"
        },
        "id": "sHpA_MuHHbxQ",
        "outputId": "6361789c-4327-49db-faa2-d6624a8a747a"
      },
      "outputs": [
        {
          "name": "stdout",
          "output_type": "stream",
          "text": [
            "Enter the year: 2024\n",
            "Enter the month (1-12): 2\n",
            "2024 is a leap year.\n",
            "The month has 29 days\n"
          ]
        }
      ],
      "source": [
        "def is_leap_year(year):\n",
        "  if year % 400 == 0:\n",
        "    return True\n",
        "  elif year % 100 == 0:\n",
        "    return True\n",
        "  elif year % 4 == 0:\n",
        "    return True\n",
        "  else:\n",
        "    return False\n",
        "\n",
        "def get_days_in_month(year, month):\n",
        "  if month in [1, 3, 5, 7, 8, 10, 12]:\n",
        "    return 31\n",
        "  elif month in [4, 6, 9, 11]:\n",
        "    return 30\n",
        "  elif month == 2:\n",
        "    if is_leap_year(year):\n",
        "      return 29\n",
        "    else:\n",
        "      return 28\n",
        "  else:\n",
        "    return -1 # Invalid month\n",
        "\n",
        "year = int(input(\"Enter the year: \"))\n",
        "month = int(input(\"Enter the month (1-12): \"))\n",
        "\n",
        "if month < 1 or month > 12:\n",
        "  print(\"Invalid month !\")\n",
        "else:\n",
        "  if is_leap_year(year):\n",
        "    print(f\"{year} is a leap year.\")\n",
        "  else:\n",
        "    print(f\"{year} is a common year. \")\n",
        "\n",
        "days_in_month = get_days_in_month(year, month)\n",
        "if days_in_month == -1:\n",
        "  print(\"Invalid month!\")\n",
        "else:\n",
        "  print(f\"The month has {days_in_month} days\")"
      ]
    },
    {
      "cell_type": "markdown",
      "metadata": {
        "id": "NHYa2q--HcYS"
      },
      "source": [
        "1. Write a Python program that checks if a given number is positive, negative, or zero.\n"
      ]
    },
    {
      "cell_type": "code",
      "execution_count": null,
      "metadata": {
        "colab": {
          "base_uri": "https://localhost:8080/"
        },
        "id": "iiVlhFTWJ_E4",
        "outputId": "83f03aaa-31b6-48a6-88a6-be4a1fe4a260"
      },
      "outputs": [
        {
          "name": "stdout",
          "output_type": "stream",
          "text": [
            "Enter a number: -7\n",
            "The number is:  Negative\n"
          ]
        }
      ],
      "source": [
        "def check_number(number):\n",
        "  if number > 0:\n",
        "    return \"Positive\"\n",
        "  elif number < 0:\n",
        "    return \"Negative\"\n",
        "  else:\n",
        "    return \"Zero\"\n",
        "\n",
        "number = float(input(\"Enter a number: \"))\n",
        "result = check_number(number)\n",
        "print(\"The number is: \", result)\n"
      ]
    },
    {
      "cell_type": "markdown",
      "metadata": {
        "id": "_5Zj2XpLJ_wd"
      },
      "source": [
        "2. Create a program to determine if a person is eligible to vote based on their age.\n"
      ]
    },
    {
      "cell_type": "code",
      "execution_count": null,
      "metadata": {
        "colab": {
          "base_uri": "https://localhost:8080/"
        },
        "id": "q_qPS4VlKC3r",
        "outputId": "339e6de0-47e0-470b-b56f-3657ad06361a"
      },
      "outputs": [
        {
          "name": "stdout",
          "output_type": "stream",
          "text": [
            "Enter Person age: 33\n",
            "Eligible for vote\n",
            "None\n"
          ]
        }
      ],
      "source": [
        "def vote_eligible(persons):\n",
        "  if person_age >= 18:\n",
        "    print(\"Eligible for vote\")\n",
        "  else:\n",
        "    print(\"Not eligible for vote\")\n",
        "\n",
        "person_age = int(input(\"Enter Person age: \"))\n",
        "result = vote_eligible(person_age)\n",
        "print(result)"
      ]
    },
    {
      "cell_type": "markdown",
      "metadata": {
        "id": "dacpQoz9KDEq"
      },
      "source": [
        "3. Write a program to find the maximum of two given numbers using conditional statements.\n"
      ]
    },
    {
      "cell_type": "code",
      "execution_count": null,
      "metadata": {
        "colab": {
          "base_uri": "https://localhost:8080/"
        },
        "id": "MaJYwa1miuLT",
        "outputId": "c0c945a9-5270-4303-8c0b-fac9bcf63293"
      },
      "outputs": [
        {
          "name": "stdout",
          "output_type": "stream",
          "text": [
            "Enter the first number: 5\n",
            "Enter the second number: 5.0001\n",
            "The maximum of 5.0 and 5.0001 is 5.0001\n"
          ]
        }
      ],
      "source": [
        "def find_maximum(num1, num2):\n",
        "    if num1 > num2:\n",
        "        max_number = num1\n",
        "    else:\n",
        "        max_number = num2\n",
        "    return max_number\n",
        "\n",
        "# Example usage\n",
        "num1 = float(input(\"Enter the first number: \"))\n",
        "num2 = float(input(\"Enter the second number: \"))\n",
        "maximum = find_maximum(num1, num2)\n",
        "print(\"The maximum of\", num1, \"and\", num2, \"is\", maximum)\n"
      ]
    },
    {
      "cell_type": "markdown",
      "metadata": {
        "id": "Q7NUjoObKGkW"
      },
      "source": [
        "4. Develop a program that calculates the grade of a student based on their exam score.\n"
      ]
    },
    {
      "cell_type": "code",
      "execution_count": null,
      "metadata": {
        "colab": {
          "base_uri": "https://localhost:8080/"
        },
        "id": "PQDOknTDKKGh",
        "outputId": "38f5f140-7234-48bf-ff4c-92f17d6b288d"
      },
      "outputs": [
        {
          "name": "stdout",
          "output_type": "stream",
          "text": [
            "Enter the studen's score: 77\n",
            "The student's grade is C. \n"
          ]
        }
      ],
      "source": [
        "def calculate_grade(score):\n",
        "  if score >= 90:\n",
        "    grade = 'A'\n",
        "  elif score >= 80:\n",
        "    grade = 'B'\n",
        "  elif score >= 70:\n",
        "    grade = 'C'\n",
        "  elif score >= 60:\n",
        "    grade = 'd'\n",
        "  elif score >= 50:\n",
        "    grade = 'E'\n",
        "  elif score >= 40:\n",
        "    grade = 'F'\n",
        "  return grade\n",
        "\n",
        "score = float(input(\"Enter the studen's score: \"))\n",
        "\n",
        "if score >= 0 and score <= 100:\n",
        "  grade = calculate_grade(score)\n",
        "  print(f\"The student's grade is {grade}. \")\n",
        "else:\n",
        "  print(\"Invalid score!\")"
      ]
    },
    {
      "cell_type": "markdown",
      "metadata": {
        "id": "0Yp8UnIMKNrh"
      },
      "source": [
        "5. Create a program that checks if a year is a leap year or not.\n"
      ]
    },
    {
      "cell_type": "code",
      "execution_count": null,
      "metadata": {
        "colab": {
          "base_uri": "https://localhost:8080/"
        },
        "id": "DWBqBlx_KSfq",
        "outputId": "0a123e72-9333-4242-86de-d4cfa62698e8"
      },
      "outputs": [
        {
          "name": "stdout",
          "output_type": "stream",
          "text": [
            "enter the year2024\n",
            "2024 is a leap year. \n"
          ]
        }
      ],
      "source": [
        "Leap_year = int(input(\"enter the year\"))\n",
        "if (Leap_year % 4 == 0 and Leap_year % 100 != 0) or (Leap_year % 400 == 0):\n",
        "  print(f\"{Leap_year} is a leap year. \")\n",
        "else:\n",
        "  print(f\"{Leap_year} is not leap year\")\n"
      ]
    },
    {
      "cell_type": "markdown",
      "metadata": {
        "id": "aUkoZk5aKSzu"
      },
      "source": [
        "6. Write a program to classify a triangle based on its sides' lengths.\n"
      ]
    },
    {
      "cell_type": "code",
      "execution_count": null,
      "metadata": {
        "colab": {
          "base_uri": "https://localhost:8080/"
        },
        "id": "x97Zt6PEKVup",
        "outputId": "f4a65534-5c6f-431a-8105-984a50f618e2"
      },
      "outputs": [
        {
          "name": "stdout",
          "output_type": "stream",
          "text": [
            "Enter the length of the first side: 6\n",
            "Enter the length of the second side: 6\n",
            "Enter the length of the third side: 6\n",
            "The triangle is Equilateral triangle \n"
          ]
        }
      ],
      "source": [
        "def triangle_type(side1, side2, side3):\n",
        "  if side1 == side2 == side3:\n",
        "    return \"Equilateral triangle\"\n",
        "  elif side1 == side2 or side1 == side3 or side2 == side3:\n",
        "    return \"Isosceles triangle\"\n",
        "  else:\n",
        "    return \"Scalence triangle\"\n",
        "\n",
        "side1 = float(input(\"Enter the length of the first side: \"))\n",
        "side2 = float(input(\"Enter the length of the second side: \"))\n",
        "side3 = float(input(\"Enter the length of the third side: \"))\n",
        "\n",
        "result = triangle_type(side1, side2, side3)\n",
        "print(f\"The triangle is {result} \")\n"
      ]
    },
    {
      "cell_type": "markdown",
      "metadata": {
        "id": "kyzrlrHSKWFL"
      },
      "source": [
        "7. Build a program that determines the largest of three given numbers.\n"
      ]
    },
    {
      "cell_type": "code",
      "execution_count": null,
      "metadata": {
        "colab": {
          "base_uri": "https://localhost:8080/"
        },
        "id": "wZrP8IGpKYUX",
        "outputId": "5f954224-179e-450d-87cb-40b461e07973"
      },
      "outputs": [
        {
          "name": "stdout",
          "output_type": "stream",
          "text": [
            "Enter the First number :9\n",
            "Enter the Second number :5\n",
            "Enter the third number :9.0\n",
            "The largest number is : 9.0\n"
          ]
        }
      ],
      "source": [
        "def find_largest(num1, num2, num3):\n",
        "  if num1 >= num2 and num1 >= num3:\n",
        "    return num1\n",
        "  elif num2 >= num1 and num2 >= num3:\n",
        "    return num2\n",
        "  else:\n",
        "    return num3\n",
        "\n",
        "num1 = float(input(\"Enter the First number :\"))\n",
        "num2 = float(input(\"Enter the Second number :\"))\n",
        "num3 = float(input(\"Enter the third number :\"))\n",
        "\n",
        "largest = find_largest(num1, num2, num3)\n",
        "print(\"The largest number is :\", largest)"
      ]
    },
    {
      "cell_type": "markdown",
      "metadata": {
        "id": "yr9P5R8yKYiV"
      },
      "source": [
        "8. Develop a program that checks whether a character is a vowel or a consonant.\n"
      ]
    },
    {
      "cell_type": "code",
      "execution_count": null,
      "metadata": {
        "colab": {
          "base_uri": "https://localhost:8080/"
        },
        "id": "XAaUG4ZpKa4m",
        "outputId": "53583f4b-4a8f-4814-bb3b-f42355f0cdf2"
      },
      "outputs": [
        {
          "name": "stdout",
          "output_type": "stream",
          "text": [
            "Enter the character :p\n",
            "p is consonant\n"
          ]
        }
      ],
      "source": [
        "def char_vol_or_consonant(char):\n",
        "  vowels = 'aeiouAEIOU'\n",
        "  if char.isalpha() and len(char) == 1:\n",
        "    if char in vowels:\n",
        "      return(f\" {char} is vowels\")\n",
        "    else:\n",
        "      return(f\"{char} is consonant\")\n",
        "\n",
        "character = input(\"Enter the character :\")\n",
        "result = char_vol_or_consonant(character)\n",
        "print(result)\n"
      ]
    },
    {
      "cell_type": "markdown",
      "metadata": {
        "id": "SlORNDauKbC1"
      },
      "source": [
        "9. Create a program to calculate the total cost of a shopping cart based on discounts.\n"
      ]
    },
    {
      "cell_type": "code",
      "execution_count": null,
      "metadata": {
        "colab": {
          "base_uri": "https://localhost:8080/"
        },
        "id": "dCLJJGHSKdTv",
        "outputId": "d0103d9a-4b31-44f9-db5d-bf4c4cb6cd46"
      },
      "outputs": [
        {
          "name": "stdout",
          "output_type": "stream",
          "text": [
            "Enter the purchase amount : Rs.999\n",
            "Discounted price:  949.05\n"
          ]
        }
      ],
      "source": [
        "def calculate_discounted_price(amount):\n",
        "  if amount >= 1000:\n",
        "    discount = 0.1 # 10% discount for purchases of 1000\n",
        "  elif amount >= 500:\n",
        "    discount = 0.05\n",
        "  else:\n",
        "    discount = 0\n",
        "\n",
        "  discounted_price = amount - (amount * discount)\n",
        "  return discounted_price\n",
        "\n",
        "amount = float(input(\"Enter the purchase amount : Rs.\"))\n",
        "discounted_price = calculate_discounted_price(amount)\n",
        "print(\"Discounted price: \", discounted_price)\n"
      ]
    },
    {
      "cell_type": "markdown",
      "metadata": {
        "id": "F2c0UeFBKdkU"
      },
      "source": [
        "10. Write a program that checks if a given number is even or odd.\n",
        "\n"
      ]
    },
    {
      "cell_type": "code",
      "execution_count": null,
      "metadata": {
        "colab": {
          "base_uri": "https://localhost:8080/"
        },
        "id": "WouLNUEmKgqE",
        "outputId": "171a9c31-a85b-4f5e-a851-7fff6395c755"
      },
      "outputs": [
        {
          "name": "stdout",
          "output_type": "stream",
          "text": [
            "Enter the number :8\n",
            "8 is even\n"
          ]
        }
      ],
      "source": [
        "def check_even_or_odd(num):\n",
        "  if num % 2 == 0:\n",
        "    return f\"{num} is even\"\n",
        "  else:\n",
        "    return f\"{num} is odd\"\n",
        "\n",
        "\n",
        "Number = int(input(\"Enter the number :\"))\n",
        "result = check_even_or_odd(Number)\n",
        "print(result)\n"
      ]
    },
    {
      "cell_type": "markdown",
      "metadata": {
        "id": "zyWDdEBcKg8t"
      },
      "source": [
        "11. Write a program that calculates the roots of a quadratic equation .\n"
      ]
    },
    {
      "cell_type": "code",
      "execution_count": null,
      "metadata": {
        "colab": {
          "base_uri": "https://localhost:8080/"
        },
        "id": "EHuEiJ7IKlK9",
        "outputId": "c3831d03-e845-4e48-b9cc-bec9ebc6396a"
      },
      "outputs": [
        {
          "name": "stdout",
          "output_type": "stream",
          "text": [
            "enter the cofficient of x^2 (a) : 8\n",
            "enter the cofficient of x(b): 4\n",
            "enter the constent term (c): 1\n",
            "The roots are complex numbers:\n",
            "Root 1: (-0.25+0.25j)\n",
            "Root 2: (-0.25+0.25j)\n"
          ]
        }
      ],
      "source": [
        "import math\n",
        "\n",
        "def calculate_roots(a, b, c):\n",
        "  discriminant = b**2 - 4*a*c\n",
        "\n",
        "  if discriminant > 0:\n",
        "    root1 = (-b + math.sqrt(discriminant))/(2*a)\n",
        "    root2 = (-b + math.sqrt(discriminant))/(2*a)\n",
        "  elif discriminant == 0:\n",
        "    root = -b / (2*a)\n",
        "  else:\n",
        "    real_part = -b / (2*a)\n",
        "    imaginary_part = math.sqrt(abs(discriminant))/ (2*a)\n",
        "    root1 = complex(real_part, imaginary_part)\n",
        "    root2 = complex(real_part, imaginary_part)\n",
        "    return root1, root2\n",
        "\n",
        "a = float(input(\"enter the cofficient of x^2 (a) : \"))\n",
        "b = float(input(\"enter the cofficient of x(b): \"))\n",
        "c = float(input(\"enter the constent term (c): \"))\n",
        "\n",
        "roots = calculate_roots(a, b, c)\n",
        "if isinstance(roots[0], complex):\n",
        "  print(\"The roots are complex numbers:\")\n",
        "  print(\"Root 1:\", roots[0])\n",
        "  print(\"Root 2:\", roots[1])\n",
        "else:\n",
        "  print(\"The roots are real numbers:\")\n",
        "  print(\"Root 1:\", roots[0])\n",
        "  print(\"Root 2:\", roots[1])\n"
      ]
    },
    {
      "cell_type": "markdown",
      "metadata": {
        "id": "_ivt262VKlbl"
      },
      "source": [
        "12. Create a program that determines the day of the week based on the day number (1-7).\n"
      ]
    },
    {
      "cell_type": "code",
      "execution_count": null,
      "metadata": {
        "colab": {
          "base_uri": "https://localhost:8080/"
        },
        "id": "AG06xIAkKnWx",
        "outputId": "09d2c4d9-ec0e-4318-9da0-f1ef6480d291"
      },
      "outputs": [
        {
          "name": "stdout",
          "output_type": "stream",
          "text": [
            "Enter a number (1 for Monday, 2 for Tuesday, etc.): 6\n",
            "the day of the week is :  Saturday\n"
          ]
        }
      ],
      "source": [
        "def get_day_of_week(day_number):\n",
        "  days_of_week =  [\"Monday\", \"Tuesday\", \"Wednesday\", \"Thursday\", \"Friday\", \"Saturday\", \"Sunday\"]\n",
        "\n",
        "  if day_number >= 1 and day_number <=7:\n",
        "    return days_of_week[day_number - 1]\n",
        "  else:\n",
        "    return \"Invalid day number\"\n",
        "\n",
        "day_number = int(input(\"Enter a number (1 for Monday, 2 for Tuesday, etc.): \"))\n",
        "day_of_week = get_day_of_week(day_number)\n",
        "print(\"the day of the week is : \", day_of_week)\n",
        "\n"
      ]
    },
    {
      "cell_type": "markdown",
      "metadata": {
        "id": "fVKqW3RdKnlb"
      },
      "source": [
        "13. Develop a program that calculates the factorial of a given number using recursion.\n"
      ]
    },
    {
      "cell_type": "code",
      "execution_count": null,
      "metadata": {
        "colab": {
          "base_uri": "https://localhost:8080/"
        },
        "id": "Y08TYIRsKpYU",
        "outputId": "ff1f5eee-689b-45cb-ca32-73a8f9c71d05"
      },
      "outputs": [
        {
          "name": "stdout",
          "output_type": "stream",
          "text": [
            "Enter a number to calculate its factorial: 5\n",
            "120\n"
          ]
        }
      ],
      "source": [
        "def factorial(n):\n",
        "  if n == 0:\n",
        "    return 1\n",
        "  else:\n",
        "    return n * factorial(n - 1)\n",
        "\n",
        "num = int(input(\"Enter a number to calculate its factorial: \"))\n",
        "fact = factorial(num)\n",
        "print(fact)"
      ]
    },
    {
      "cell_type": "markdown",
      "metadata": {
        "id": "RfPtvvScKpkA"
      },
      "source": [
        "14. Write a program to find the largest among three numbers without using the `max()` function.\n"
      ]
    },
    {
      "cell_type": "code",
      "execution_count": null,
      "metadata": {
        "colab": {
          "base_uri": "https://localhost:8080/"
        },
        "id": "xD4JNqu7Krjk",
        "outputId": "7c095612-928e-485b-faa4-fa31cf5debbb"
      },
      "outputs": [
        {
          "name": "stdout",
          "output_type": "stream",
          "text": [
            "Enter the First number :999\n",
            "Enter the Second number :99.9\n",
            "Enter the third number :9.99\n",
            "The largest number is : 999.0\n"
          ]
        }
      ],
      "source": [
        "def find_largest(num1, num2, num3):\n",
        "  if num1 >= num2 and num1 >= num3:\n",
        "    return num1\n",
        "  elif num2 >= num1 and num2 >= num3:\n",
        "    return num2\n",
        "  else:\n",
        "    return num3\n",
        "\n",
        "num1 = float(input(\"Enter the First number :\"))\n",
        "num2 = float(input(\"Enter the Second number :\"))\n",
        "num3 = float(input(\"Enter the third number :\"))\n",
        "\n",
        "largest = find_largest(num1, num2, num3)\n",
        "print(\"The largest number is :\", largest)"
      ]
    },
    {
      "cell_type": "markdown",
      "metadata": {
        "id": "zh6E0NpmKr0W"
      },
      "source": [
        "15. Create a program that simulates a basic ATM transaction menu.\n"
      ]
    },
    {
      "cell_type": "code",
      "execution_count": null,
      "metadata": {
        "colab": {
          "base_uri": "https://localhost:8080/"
        },
        "id": "gMScocr4KtiV",
        "outputId": "fa863b5d-8e61-42e8-b114-e82017b3cc4f"
      },
      "outputs": [
        {
          "name": "stdout",
          "output_type": "stream",
          "text": [
            "Welcome to the ATM!\n",
            "1. Check Balance\n",
            "2. Deposit\n",
            "3. Withdraw\n",
            "4. Quit\n",
            "Enter option (1 - 4): 1\n",
            "Your current balance is Rs.5000.0\n",
            "Welcome to the ATM!\n",
            "1. Check Balance\n",
            "2. Deposit\n",
            "3. Withdraw\n",
            "4. Quit\n",
            "Enter option (1 - 4): 2\n",
            "Enter deposit amount: $500\n",
            "Deposoite Rs.500.0 sucessfully\n",
            "Welcome to the ATM!\n",
            "1. Check Balance\n",
            "2. Deposit\n",
            "3. Withdraw\n",
            "4. Quit\n",
            "Enter option (1 - 4): 1\n",
            "Your current balance is Rs.5000.0\n",
            "Welcome to the ATM!\n",
            "1. Check Balance\n",
            "2. Deposit\n",
            "3. Withdraw\n",
            "4. Quit\n",
            "Enter option (1 - 4): 3\n",
            "Enter withdrawal amount : Rs.2000\n",
            "Withdrawn Rs.2000.0 sucessfully.\n",
            "Welcome to the ATM!\n",
            "1. Check Balance\n",
            "2. Deposit\n",
            "3. Withdraw\n",
            "4. Quit\n",
            "Enter option (1 - 4): 4\n",
            "Thankyou for the using ATM. Have a nice day!\n"
          ]
        }
      ],
      "source": [
        "def display_menu():\n",
        "    print(\"Welcome to the ATM!\")\n",
        "    print(\"1. Check Balance\")\n",
        "    print(\"2. Deposit\")\n",
        "    print(\"3. Withdraw\")\n",
        "    print(\"4. Quit\")\n",
        "\n",
        "def check_balance(balance):\n",
        "  print(f\"Your current balance is Rs.{balance}\")\n",
        "\n",
        "def deposite(balance):\n",
        "  amount = float(input(\"Enter deposit amount: $\"))\n",
        "  if amount > 0:\n",
        "    balance += amount\n",
        "    print(f\"Deposoite Rs.{amount} sucessfully\")\n",
        "  else:\n",
        "    print(\"Invalid amount for deposite.\")\n",
        "\n",
        "def Withdraw(balance):\n",
        "  amount = float(input(\"Enter withdrawal amount : Rs.\"))\n",
        "  if 0 < amount <= balance:\n",
        "    balance -= amount\n",
        "    print(f\"Withdrawn Rs.{amount} sucessfully.\")\n",
        "  else:\n",
        "    print(\"Insufficient Funds\")\n",
        "\n",
        "\n",
        "balance = 5000.00\n",
        "while True:\n",
        "  display_menu()\n",
        "  option = input(\"Enter option (1 - 4): \")\n",
        "  if option == '1':\n",
        "    check_balance(balance)\n",
        "  elif option == '2':\n",
        "    deposite(balance)\n",
        "  elif option == '3':\n",
        "    Withdraw(balance)\n",
        "  elif option == '4':\n",
        "    print(\"Thankyou for the using ATM. Have a nice day!\")\n",
        "    break\n",
        "  else:\n",
        "    print(\"Invalid Option. Please choose from 1 to 4.\")\n",
        "\n"
      ]
    },
    {
      "cell_type": "markdown",
      "metadata": {
        "id": "-tBW2OaEKtsm"
      },
      "source": []
    },
    {
      "cell_type": "markdown",
      "metadata": {
        "id": "qlKmRL49KtvU"
      },
      "source": [
        "16. Build a program that checks if a given string is a palindrome or not.\n"
      ]
    },
    {
      "cell_type": "code",
      "execution_count": null,
      "metadata": {
        "colab": {
          "base_uri": "https://localhost:8080/"
        },
        "id": "PHxThhnwKwk6",
        "outputId": "17b8bec8-8c64-4aab-bc80-82c3067f95b1"
      },
      "outputs": [
        {
          "name": "stdout",
          "output_type": "stream",
          "text": [
            "Enter a string: pop\n",
            "pop is palindrome\n"
          ]
        }
      ],
      "source": [
        "def check_palindrome(string):\n",
        "    # Remove spaces and convert to lowercase for case insensitivity\n",
        "    string = string.replace(\" \", \"\").lower()\n",
        "\n",
        "    if string == string[::-1]:\n",
        "        return f\"{string} is palindrome\"\n",
        "    else:\n",
        "        return f\"{string} is not palindrome\"\n",
        "\n",
        "input_string = input(str(\"Enter a string: \"))\n",
        "result = check_palindrome(input_string)\n",
        "print(result)\n",
        "\n"
      ]
    },
    {
      "cell_type": "markdown",
      "metadata": {
        "id": "aHZCBP7eKw3X"
      },
      "source": [
        "17. Write a program that calculates the average of a list of numbers, excluding the smallest and largest values.\n"
      ]
    },
    {
      "cell_type": "code",
      "execution_count": null,
      "metadata": {
        "colab": {
          "base_uri": "https://localhost:8080/"
        },
        "id": "Qf0ijBxhKygs",
        "outputId": "dbce046c-8851-451a-c092-10efed1bb99d"
      },
      "outputs": [
        {
          "name": "stdout",
          "output_type": "stream",
          "text": [
            "Average (excluding smallest and largest values): 8.0\n"
          ]
        }
      ],
      "source": [
        "def calculate_avg(numbers):\n",
        "    if len(numbers) <= 2:\n",
        "        return \"List must contain at least three numbers\"\n",
        "\n",
        "    # Exclude the smallest and largest values\n",
        "    numbers.sort()\n",
        "    excluded_numbers = numbers[1:-1] #Using slicing starting from the second element\n",
        "                                      # but not including, the last element (index -1).\n",
        "\n",
        "    # Calculate the average\n",
        "    average = sum(excluded_numbers) / len(excluded_numbers)\n",
        "    return average\n",
        "\n",
        "numbers = [12, 5, 9, 17, 6, 8, 3]\n",
        "average = calculate_avg(numbers)\n",
        "print(\"Average (excluding smallest and largest values):\", average)\n"
      ]
    },
    {
      "cell_type": "markdown",
      "metadata": {
        "id": "w7FpTU7lKyvw"
      },
      "source": [
        "18. Develop a program that converts a given temperature from Celsius to Fahrenheit.\n"
      ]
    },
    {
      "cell_type": "code",
      "execution_count": null,
      "metadata": {
        "colab": {
          "base_uri": "https://localhost:8080/"
        },
        "id": "hL1NNOCRK0xD",
        "outputId": "4d537579-7fa8-4a2c-8732-bf6339724d4b"
      },
      "outputs": [
        {
          "name": "stdout",
          "output_type": "stream",
          "text": [
            "Enter temperature in Celsius: -2\n",
            "28.4\n"
          ]
        }
      ],
      "source": [
        "def celcius_to_fahrenheit(celsius):\n",
        "    fahrenheit = (celsius * 9/5) + 32\n",
        "    return fahrenheit\n",
        "\n",
        "celsius = float(input(\"Enter temperature in Celsius: \"))\n",
        "fahrenheit = celcius_to_fahrenheit(celsius)\n",
        "print(fahrenheit)"
      ]
    },
    {
      "cell_type": "markdown",
      "metadata": {
        "id": "t85EQ3A5wY3h"
      },
      "source": [
        "# Advance Question\n"
      ]
    },
    {
      "cell_type": "markdown",
      "metadata": {
        "id": "UlwJM7fVK1W9"
      },
      "source": [
        "19. Create a program that simulates a basic calculator for addition, subtraction, multiplication, and division.\n"
      ]
    },
    {
      "cell_type": "markdown",
      "metadata": {
        "id": "nYv0qSpYwZYg"
      },
      "source": []
    },
    {
      "cell_type": "code",
      "execution_count": null,
      "metadata": {
        "colab": {
          "base_uri": "https://localhost:8080/"
        },
        "id": "HRLlWTtaK3oD",
        "outputId": "a2c0e7b2-4c33-4773-e002-d2fa9a89ef2e"
      },
      "outputs": [
        {
          "name": "stdout",
          "output_type": "stream",
          "text": [
            "Select Operation\n",
            "1. Addition\n",
            "2. Substraction\n",
            "3. Multiplecation\n",
            "4. Division\n",
            "Enter choice(1 to 4):7\n",
            "Invalid Number\n",
            "Enter choice(1 to 4):1\n",
            "Enter first number: 9887987687\n",
            "Enter Second number: 6\n",
            "Result: 9887987693.0\n"
          ]
        }
      ],
      "source": [
        "def add(x, y):\n",
        "  return x + y\n",
        "\n",
        "def substract(x, y):\n",
        "  return x - y\n",
        "\n",
        "def multiply(x, y):\n",
        "  return x * y\n",
        "\n",
        "def devide(x, y):\n",
        "  if y == 0:\n",
        "    return \"Cannot divide by zero\"\n",
        "  else:\n",
        "    return x / y\n",
        "\n",
        "print(\"Select Operation\")\n",
        "print(\"1. Addition\")\n",
        "print(\"2. Substraction\")\n",
        "print(\"3. Multiplecation\")\n",
        "print(\"4. Division\")\n",
        "\n",
        "while True:\n",
        "  choice = input(\"Enter choice(1 to 4):\")\n",
        "\n",
        "  if choice in('1', '2', '3', '4'):\n",
        "    num1 = float(input(\"Enter first number: \"))\n",
        "    num2 = float(input(\"Enter Second number: \"))\n",
        "\n",
        "    if choice == '1':\n",
        "      print(\"Result:\", add(num1, num2))\n",
        "    elif choice == '2':\n",
        "      print(\"Result :\", substract(num1, num2))\n",
        "    elif choice == '3':\n",
        "      print(\"Result : \", multiply(num1, num2))\n",
        "    elif choice == '4':\n",
        "      print(\"Result : \", devide(num1, num2))\n",
        "    break\n",
        "  else:\n",
        "    print(\"Invalid Number\")\n"
      ]
    },
    {
      "cell_type": "markdown",
      "metadata": {
        "id": "T0fnCpt2K31q"
      },
      "source": [
        "20. Write a program that determines the roots of a cubic equation using the Cardano formula.\n"
      ]
    },
    {
      "cell_type": "code",
      "execution_count": 12,
      "metadata": {
        "id": "jfdIHcC9K5cp",
        "colab": {
          "base_uri": "https://localhost:8080/"
        },
        "outputId": "b5192175-41c0-4001-fdc1-e606a0543ab6"
      },
      "outputs": [
        {
          "output_type": "stream",
          "name": "stdout",
          "text": [
            "Enter the coefficients of the cubic equation (ax^3 + bx^2 + cx + d = 0):\n",
            "Enter a: 1\n",
            "Enter b: 6\n",
            "Enter c: 11\n",
            "Enter d: 21\n",
            "Roots of the cubic equation are:  ((-1.5524401471276568-3.2620568646176338j), (0.6748444766359856-0.5631858868281219j), (0.6748444766359856-0.5631858868281219j))\n"
          ]
        }
      ],
      "source": [
        "import math\n",
        "\n",
        "def cubic_roots(a, b, c, d):\n",
        "    if a == 0:\n",
        "        print(\"This is not a cubic equation.\")\n",
        "        return\n",
        "\n",
        "    # Calculate p, q, and delta\n",
        "    p = (3 * a * c - b**2) / (3 * a**2)\n",
        "    q = (2 * b**3 - 9 * a * b * c + 27 * a**2 * d) / (27 * a**3)\n",
        "    delta = (q / 2)**2 + (p / 3)**3\n",
        "\n",
        "    # Check if delta is positive, negative, or zero\n",
        "    if delta > 0:\n",
        "        u = (-q / 2 + math.sqrt(delta))**(1/3)\n",
        "        v = (-q / 2 - math.sqrt(delta))**(1/3)\n",
        "\n",
        "        real_root = -b / (3 * a) - u - v\n",
        "        imaginary_part = math.sqrt(3) * (u - v) / 2\n",
        "        root1 = real_root + imaginary_part * 1j\n",
        "        root2 = -(-b / (3 * a) + (u + v) / 2) / 2  # Corrected formula for root2\n",
        "        root3 = -(-b / (3 * a) + (u + v) / 2) / 2  # Corrected formula for root3\n",
        "        return root1, root2, root3\n",
        "    elif delta == 0:\n",
        "        u = (-q / 2)**(1/3)\n",
        "        v = (-q / 2)**(1/3)\n",
        "\n",
        "        root1 = -b / (3 * a) - u - v\n",
        "        root2 = -b / (3 * a) + (u + v) / 2\n",
        "        return root1, root2\n",
        "    else:\n",
        "        rho = math.sqrt((-(p / 3))**3)\n",
        "        theta = math.acos(-q / (2 * math.sqrt(-(p / 3)**3)))\n",
        "\n",
        "        root1 = 2 * math.sqrt(-(p / 3)) * math.cos(theta / 3) - b / (3 * a)\n",
        "        root2 = 2 * math.sqrt(-(p / 3)) * math.cos((theta + 2 * math.pi) / 3) - b / (3 * a)\n",
        "        root3 = 2 * math.sqrt(-(p / 3)) * math.cos((theta + 4 * math.pi) / 3) - b / (3 * a)\n",
        "        return root1, root2, root3\n",
        "\n",
        "print(\"Enter the coefficients of the cubic equation (ax^3 + bx^2 + cx + d = 0):\")\n",
        "a = float(input(\"Enter a: \"))\n",
        "b = float(input(\"Enter b: \"))\n",
        "c = float(input(\"Enter c: \"))\n",
        "d = float(input(\"Enter d: \"))\n",
        "\n",
        "roots = cubic_roots(a, b, c, d)\n",
        "print(\"Roots of the cubic equation are: \", roots)\n"
      ]
    },
    {
      "cell_type": "markdown",
      "metadata": {
        "id": "5uiz-onoK5mq"
      },
      "source": [
        "621. Create a program that calculates the income tax based on the user's income and tax brackets.\n"
      ]
    },
    {
      "cell_type": "code",
      "execution_count": 3,
      "metadata": {
        "id": "tZlKnF94K7T0",
        "colab": {
          "base_uri": "https://localhost:8080/"
        },
        "outputId": "16447a7e-2298-4ec8-d7c1-2ab940c140d8"
      },
      "outputs": [
        {
          "output_type": "stream",
          "name": "stdout",
          "text": [
            "enter your income : $1000000\n",
            "Your income tax is: $ 155000.0\n"
          ]
        }
      ],
      "source": [
        "def calculate_tax(income, brackets):\n",
        "  tax = 0\n",
        "  for i in range(len(brackets)):\n",
        "    if i == len(brackets) - 1:\n",
        "      tax += (income - brackets[i][0]) * brackets[i][1]\n",
        "    else:\n",
        "      if income > brackets[i][0]:\n",
        "        tax += (brackets[i+1][0] - brackets[i][0]) * brackets[i][1]\n",
        "      else:\n",
        "        return tax\n",
        "\n",
        "brackets = [(100000, 0.10),\n",
        "            (200000, 0.15),\n",
        "            (500000, 0.20),\n",
        "            (1000000, 0.25),\n",
        "            (float('inf'), 0.30)]\n",
        "\n",
        "income = float(input(\"enter your income : $\"))\n",
        "tax = calculate_tax(income, brackets)\n",
        "print(\"Your income tax is: $\",(tax))"
      ]
    },
    {
      "cell_type": "markdown",
      "metadata": {
        "id": "dFWX2i2bK7_N"
      },
      "source": [
        "22. Write a program that simulates a rock-paper-scissors game against the computer.\n"
      ]
    },
    {
      "cell_type": "code",
      "execution_count": null,
      "metadata": {
        "colab": {
          "base_uri": "https://localhost:8080/"
        },
        "id": "CfySvX7NK98O",
        "outputId": "90453c3a-5c61-48aa-a275-20108f2c06fe"
      },
      "outputs": [
        {
          "name": "stdout",
          "output_type": "stream",
          "text": [
            "Enter your choice (rock, paper, scissors): paper\n",
            "You chose: paper\n",
            "Computer chose: paper\n",
            "It's a tie!\n",
            "Do you want to play again? (yes/no): yes\n",
            "Enter your choice (rock, paper, scissors): rock\n",
            "You chose: rock\n",
            "Computer chose: rock\n",
            "It's a tie!\n",
            "Do you want to play again? (yes/no): no\n",
            "Thanks for playing!\n"
          ]
        }
      ],
      "source": [
        "import random\n",
        "\n",
        "def get_user_choice():\n",
        "    while True:\n",
        "        user_choice = input(\"Enter your choice (rock, paper, scissors): \").lower()\n",
        "        if user_choice in ['rock', 'paper', 'scissors']:\n",
        "            return user_choice\n",
        "        else:\n",
        "            print(\"Invalid choice. Please enter rock, paper, or scissors.\")\n",
        "\n",
        "def get_computer_choice():\n",
        "    return random.choice(['rock', 'paper', 'scissors'])\n",
        "\n",
        "def determine_winner(user_choice, computer_choice):\n",
        "    if user_choice == computer_choice:\n",
        "        return \"It's a tie!\"\n",
        "    elif (user_choice == 'rock' and computer_choice == 'scissors') or \\\n",
        "         (user_choice == 'paper' and computer_choice == 'rock') or \\\n",
        "         (user_choice == 'scissors' and computer_choice == 'paper'):\n",
        "        return \"You win!\"\n",
        "    else:\n",
        "        return \"Computer wins!\"\n",
        "\n",
        "while True:\n",
        "    user_choice = get_user_choice()\n",
        "    computer_choice = get_computer_choice()\n",
        "\n",
        "    print(\"You chose:\", user_choice)\n",
        "    print(\"Computer chose:\", computer_choice)\n",
        "\n",
        "    result = determine_winner(user_choice, computer_choice)\n",
        "    print(result)\n",
        "\n",
        "    play_again = input(\"Do you want to play again? (yes/no): \").lower()\n",
        "    if play_again != 'yes':\n",
        "        print(\"Thanks for playing!\")\n",
        "        break\n"
      ]
    },
    {
      "cell_type": "markdown",
      "metadata": {
        "id": "cA8d3N1MK-QO"
      },
      "source": [
        "23. Develop a program that generates a random password based on user preferences (length, complexity).\n"
      ]
    },
    {
      "cell_type": "code",
      "execution_count": null,
      "metadata": {
        "colab": {
          "base_uri": "https://localhost:8080/"
        },
        "id": "6sQt56ioLADA",
        "outputId": "6a3a0484-8c09-4e8e-9240-362a7d631ff7"
      },
      "outputs": [
        {
          "name": "stdout",
          "output_type": "stream",
          "text": [
            "enter the length of the password: 10\n",
            "Enter the complexity level (low, medium, or high) :high\n",
            "Generated password: Y B 8 b L m m O Z )\n"
          ]
        }
      ],
      "source": [
        "import random\n",
        "import string\n",
        "\n",
        "def generate_password(length, complexity):\n",
        "  if complexity == 'low':\n",
        "    characters = string.ascii_letters + string.digits\n",
        "  elif complexity == 'medium':\n",
        "    characters = string.ascii_letters + string.digits + string.punctuation\n",
        "  elif complexity == 'high':\n",
        "    characters = string.ascii_letters + string.digits + string.punctuation + string.ascii_uppercase + string.ascii_lowercase\n",
        "  else:\n",
        "    print(\"Invalid Complexity level. Please choose 'low', 'medium', 'high'.\")\n",
        "\n",
        "\n",
        "  password = ' '.join(random.choice(characters) for _ in range(length))\n",
        "  return password\n",
        "\n",
        "length = int(input(\"enter the length of the password: \"))\n",
        "complexity = input(\"Enter the complexity level (low, medium, or high) :\").lower()\n",
        "\n",
        "password = generate_password(length, complexity)\n",
        "if password:\n",
        "    print(\"Generated password:\", password)\n",
        "\n",
        "\n",
        "\n"
      ]
    },
    {
      "cell_type": "markdown",
      "metadata": {
        "id": "1m4SRScgLAX2"
      },
      "source": [
        "24. Create a program that implements a simple text-based adventure game with branching scenarios.\n"
      ]
    },
    {
      "cell_type": "code",
      "execution_count": null,
      "metadata": {
        "colab": {
          "base_uri": "https://localhost:8080/"
        },
        "id": "zRMu6ls4LCFH",
        "outputId": "1cfccba4-65bf-4128-9e9b-766616fe2045"
      },
      "outputs": [
        {
          "name": "stdout",
          "output_type": "stream",
          "text": [
            "Welcome to the Text Adventure Game!\n",
            "You find yourself in a dark forest...\n",
            "You see two paths ahead of you.\n",
            "Which path will you take? (1 or 2)\n",
            "> 3\n",
            "Invalid choice. Please enter 1 or 2.\n",
            "Welcome to the Text Adventure Game!\n",
            "You find yourself in a dark forest...\n",
            "You see two paths ahead of you.\n",
            "Which path will you take? (1 or 2)\n",
            "> 1\n",
            "You chose path 1.\n",
            "You encounter a bear!\n",
            "What will you do? (1: Fight, 2: Run)\n",
            "> 1\n",
            "You chose to fight the bear. You are brave!\n",
            "Unfortunately, the bear is too strong and you are defeated.\n",
            "Game over. Do you want to play again? (yes/no)\n",
            "> yes\n",
            "Welcome to the Text Adventure Game!\n",
            "You find yourself in a dark forest...\n",
            "You see two paths ahead of you.\n",
            "Which path will you take? (1 or 2)\n",
            "> 1\n",
            "You chose path 1.\n",
            "You encounter a bear!\n",
            "What will you do? (1: Fight, 2: Run)\n",
            "> 2\n",
            "You chose to run away. Smart choice!\n",
            "You successfully escape from the bear.\n",
            "You find a treasure chest at the end of the path.\n",
            "Congratulations! You win!\n"
          ]
        }
      ],
      "source": [
        "def start_game():\n",
        "    print(\"Welcome to the Text Adventure Game!\")\n",
        "    print(\"You find yourself in a dark forest...\")\n",
        "    print(\"You see two paths ahead of you.\")\n",
        "    print(\"Which path will you take? (1 or 2)\")\n",
        "\n",
        "    choice = input(\"> \")\n",
        "\n",
        "    if choice == \"1\":\n",
        "        path_1()\n",
        "    elif choice == \"2\":\n",
        "        path_2()\n",
        "    else:\n",
        "        print(\"Invalid choice. Please enter 1 or 2.\")\n",
        "        start_game()\n",
        "\n",
        "def path_1():\n",
        "    print(\"You chose path 1.\")\n",
        "    print(\"You encounter a bear!\")\n",
        "    print(\"What will you do? (1: Fight, 2: Run)\")\n",
        "\n",
        "    choice = input(\"> \")\n",
        "\n",
        "    if choice == \"1\":\n",
        "        print(\"You chose to fight the bear. You are brave!\")\n",
        "        print(\"Unfortunately, the bear is too strong and you are defeated.\")\n",
        "        game_over()\n",
        "    elif choice == \"2\":\n",
        "        print(\"You chose to run away. Smart choice!\")\n",
        "        print(\"You successfully escape from the bear.\")\n",
        "        print(\"You find a treasure chest at the end of the path.\")\n",
        "        print(\"Congratulations! You win!\")\n",
        "    else:\n",
        "        print(\"Invalid choice. Please enter 1 or 2.\")\n",
        "        path_1()\n",
        "\n",
        "def path_2():\n",
        "    print(\"You chose path 2.\")\n",
        "    print(\"You stumble upon a river.\")\n",
        "    print(\"What will you do? (1: Swim across, 2: Look for a bridge)\")\n",
        "\n",
        "    choice = input(\"> \")\n",
        "\n",
        "    if choice == \"1\":\n",
        "        print(\"You chose to swim across the river.\")\n",
        "        print(\"You get swept away by the strong current and drown.\")\n",
        "        game_over()\n",
        "    elif choice == \"2\":\n",
        "        print(\"You chose to look for a bridge.\")\n",
        "        print(\"You find a sturdy bridge and safely cross the river.\")\n",
        "        print(\"You come across a village on the other side.\")\n",
        "        print(\"Congratulations! You made it to safety.\")\n",
        "    else:\n",
        "        print(\"Invalid choice. Please enter 1 or 2.\")\n",
        "        path_2()\n",
        "\n",
        "def game_over():\n",
        "    print(\"Game over. Do you want to play again? (yes/no)\")\n",
        "\n",
        "    choice = input(\"> \")\n",
        "\n",
        "    if choice.lower() == \"yes\":\n",
        "        start_game()\n",
        "    elif choice.lower() == \"no\":\n",
        "        print(\"Thanks for playing!\")\n",
        "    else:\n",
        "        print(\"Invalid choice. Please enter yes or no.\")\n",
        "        game_over()\n",
        "\n",
        "start_game()"
      ]
    },
    {
      "cell_type": "markdown",
      "metadata": {
        "id": "YsMc3xJyLCd9"
      },
      "source": [
        "25. Build a program that solves a linear equation for x, considering different cases.\n",
        "."
      ]
    },
    {
      "cell_type": "code",
      "execution_count": null,
      "metadata": {
        "colab": {
          "base_uri": "https://localhost:8080/"
        },
        "id": "O-JQkm9RLEjL",
        "outputId": "5b019ed2-c3ef-4976-a5fc-e51aa5fd8198"
      },
      "outputs": [
        {
          "name": "stdout",
          "output_type": "stream",
          "text": [
            "Case1:\n",
            "The solution for x is :  -4.0\n",
            "\n",
            "Case 2\n",
            "The equation is inconsistent. It has no solutions.\n",
            "\n",
            "Case 3:\n",
            "The solution for x is :  -0.0\n",
            "\n",
            "Case 4:\n",
            "The equation is indeterminate. It has infinitely many solutions.\n"
          ]
        }
      ],
      "source": [
        "def linear_equ(a, b):\n",
        "  if a == 0:\n",
        "    if b == 0:\n",
        "      print(\"The equation is indeterminate. It has infinitely many solutions.\")\n",
        "    else:\n",
        "      print(\"The equation is inconsistent. It has no solutions.\")\n",
        "  else:\n",
        "    x = -b/a\n",
        "    print(\"The solution for x is : \", x)\n",
        "\n",
        "# Driver\n",
        "#Case1 : a and b are both non-zero\n",
        "a1 = 2\n",
        "b1 = 8\n",
        "print(\"Case1:\")\n",
        "linear_equ(a1, b1)\n",
        "\n",
        "#Case2 : a is zero, and b is non-zero\n",
        "a2 = 0\n",
        "b2 = 5\n",
        "print(\"\\nCase 2\")\n",
        "linear_equ(a2, b2)\n",
        "\n",
        "#Case3 : a is non-zero, and b is zero\n",
        "a3 = -3\n",
        "b3 = 0\n",
        "print(\"\\nCase 3:\")\n",
        "linear_equ(a3, b3)\n",
        "\n",
        "a4 = 0\n",
        "b4 = 0\n",
        "print(\"\\nCase 4:\")\n",
        "linear_equ(a4, b4)"
      ]
    },
    {
      "cell_type": "markdown",
      "metadata": {
        "id": "oJnMUsPeLFZv"
      },
      "source": [
        "26. Write a program that simulates a basic quiz game with multiple-choice questions and scoring.\n"
      ]
    },
    {
      "cell_type": "code",
      "execution_count": null,
      "metadata": {
        "colab": {
          "base_uri": "https://localhost:8080/"
        },
        "id": "7ESHCu2pLHBh",
        "outputId": "9af8fa6b-68a0-41be-db7c-9b5c37f3665a"
      },
      "outputs": [
        {
          "name": "stdout",
          "output_type": "stream",
          "text": [
            "Welcome to the Quiz Game!\n",
            "Let's get started....\n",
            "\n",
            "Question 1:\n",
            "What is the capital of France?\n",
            "1. London\n",
            "2. Paris\n",
            "3. Berlin\n",
            "4. Rome\n",
            "Enter your answer (1, 2, 3, or 4): 2\n",
            "Correct!\n",
            "\n",
            "Question 2:\n",
            "What is the chemical symbol for water?\n",
            "1. H2O\n",
            "2. CO2\n",
            "3. NaCl\n",
            "4. O2\n",
            "Enter your answer (1, 2, 3, or 4): 1\n",
            "Correct!\n",
            "\n",
            "Quiz complete! Your score is 2/2.\n"
          ]
        }
      ],
      "source": [
        "def display_question(question, options):\n",
        "    print(question)\n",
        "    for i, option in enumerate(options, start=1):\n",
        "        print(f\"{i}. {option}\")\n",
        "\n",
        "def get_user_answer():\n",
        "    while True:\n",
        "        try:\n",
        "            choice = int(input(\"Enter your answer (1, 2, 3, or 4): \"))\n",
        "            if choice in range(1, 5):\n",
        "                return choice\n",
        "            else:\n",
        "                print(\"Invalid choice. Please enter a number between 1 to 4.\")\n",
        "        except ValueError:\n",
        "            print(\"Invalid input. Please enter a number.\")\n",
        "\n",
        "def check_answer(user_answer, correct_answer):\n",
        "    if user_answer == correct_answer:\n",
        "        print(\"Correct!\")\n",
        "        return 1\n",
        "    else:\n",
        "        print(\"Incorrect!\")\n",
        "        return 0\n",
        "\n",
        "def quiz():\n",
        "    questions = [\n",
        "        {\n",
        "            \"question\": \"What is the capital of France?\",\n",
        "            \"options\": [\"London\", \"Paris\", \"Berlin\", \"Rome\"],\n",
        "            \"correct_answer\": 2\n",
        "        },\n",
        "        {\n",
        "            \"question\": \"What is the chemical symbol for water?\",\n",
        "            \"options\": [\"H2O\", \"CO2\", \"NaCl\", \"O2\"],\n",
        "            \"correct_answer\": 1\n",
        "        }\n",
        "    ]\n",
        "\n",
        "    score = 0\n",
        "\n",
        "    print(\"Welcome to the Quiz Game!\")\n",
        "    print(\"Let's get started....\\n\")\n",
        "\n",
        "    for i, q in enumerate(questions, start=1):\n",
        "        print(f\"Question {i}:\")\n",
        "        display_question(q[\"question\"], q[\"options\"])\n",
        "        user_choice = get_user_answer()\n",
        "        score += check_answer(user_choice, q['correct_answer'])\n",
        "        print()\n",
        "\n",
        "    print(f\"Quiz complete! Your score is {score}/{len(questions)}.\")\n",
        "\n",
        "quiz()\n"
      ]
    },
    {
      "cell_type": "markdown",
      "metadata": {
        "id": "oS4zf8xDLHRK"
      },
      "source": [
        "27. Develop a program that determines whether a given year is a prime number or not.\n"
      ]
    },
    {
      "cell_type": "code",
      "execution_count": null,
      "metadata": {
        "colab": {
          "base_uri": "https://localhost:8080/"
        },
        "id": "j7Zu8x7oLJxk",
        "outputId": "1137069d-43e4-4894-cd87-910751faeb45"
      },
      "outputs": [
        {
          "name": "stdout",
          "output_type": "stream",
          "text": [
            "Enter the year : 2024\n",
            "2024 is not prime number.\n"
          ]
        }
      ],
      "source": [
        "def is_prime(year):\n",
        "  if year <= 1:\n",
        "     return False\n",
        "  for i in range(2, int(year ** 0.5) + 1):\n",
        "    if year % i == 0:\n",
        "      return False\n",
        "    return True\n",
        "\n",
        "year = int(input(\"Enter the year : \"))\n",
        "if is_prime(year):\n",
        "  print(f\"{year} is a prime number.\")\n",
        "else:\n",
        "  print(f\"{year} is not prime number.\")"
      ]
    },
    {
      "cell_type": "markdown",
      "metadata": {
        "id": "1D6UP8HKLKEm"
      },
      "source": [
        "28. Create a program that sorts three numbers in ascending order using conditional statements.\n"
      ]
    },
    {
      "cell_type": "code",
      "execution_count": null,
      "metadata": {
        "colab": {
          "base_uri": "https://localhost:8080/"
        },
        "id": "36fxYyKEQiKH",
        "outputId": "72a6cab0-bb9d-4bb6-e34e-1e719c2d167f"
      },
      "outputs": [
        {
          "name": "stdout",
          "output_type": "stream",
          "text": [
            "Enter the first number: 3.22\n",
            "Enter the second number: 544.22\n",
            "Enter the third number: 544.222\n",
            "Numbers in ascending order :  (3.22, 544.22, 544.222)\n"
          ]
        }
      ],
      "source": [
        "def sort_numbers(num1, num2, num3):\n",
        "  if num1 <= num2 <= num3:\n",
        "    return num1, num2, num3\n",
        "  elif num1<= num3 <= num2:\n",
        "    return num1, num3, num2\n",
        "  elif num2 <= num1<=num3:\n",
        "    return num2, num1, num3\n",
        "  elif num2 <= num3 <= num1:\n",
        "    return num2, num3, num1\n",
        "  elif num3 <= num1 <= num2:\n",
        "    return num3, num1, num2\n",
        "  else:\n",
        "    return num3, num2, num1\n",
        "\n",
        "num1 = float(input(\"Enter the first number: \"))\n",
        "num2 = float(input(\"Enter the second number: \"))\n",
        "num3 = float(input(\"Enter the third number: \"))\n",
        "\n",
        "sorted_num = sort_numbers(num1, num2, num3)\n",
        "print(\"Numbers in ascending order : \", sorted_num)"
      ]
    },
    {
      "cell_type": "code",
      "execution_count": null,
      "metadata": {
        "id": "1fT3321zKG2H"
      },
      "outputs": [],
      "source": []
    },
    {
      "cell_type": "markdown",
      "metadata": {
        "id": "DUo3efNzP-Eo"
      },
      "source": [
        "29. Build a program that determines the roots of a quartic equation using numerical methods.\n"
      ]
    },
    {
      "cell_type": "code",
      "execution_count": null,
      "metadata": {
        "colab": {
          "base_uri": "https://localhost:8080/"
        },
        "id": "R2AyJcoGQAsK",
        "outputId": "65cc7856-ea3f-4d2e-aebd-43210dac63f3"
      },
      "outputs": [
        {
          "name": "stdout",
          "output_type": "stream",
          "text": [
            "Roots of the quartic equation: [0.13772697448728588, 0.7270145416259578]\n"
          ]
        }
      ],
      "source": [
        "def f(x, coefficients):\n",
        "    \"\"\"\n",
        "    Evaluate the quartic equation f(x) = ax^4 + bx^3 + cx^2 + dx + e\n",
        "    where `coefficients` is a list [a, b, c, d, e]\n",
        "    \"\"\"\n",
        "    a, b, c, d, e = coefficients\n",
        "    return a * x ** 4 + b * x ** 3 + c * x ** 2 + d * x + e\n",
        "\n",
        "def find_roots(coefficients, interval=(-10, 10), tolerance=1e-6):\n",
        "    \"\"\"\n",
        "    Find roots of the quartic equation within the given interval using bisection method\n",
        "    \"\"\"\n",
        "    roots = []\n",
        "    x_start, x_end = interval\n",
        "    step = 0.1\n",
        "    while x_start <= x_end:\n",
        "        if f(x_start, coefficients) * f(x_start + step, coefficients) < 0:\n",
        "            root = bisection(coefficients, x_start, x_start + step, tolerance)\n",
        "            if root is not None:\n",
        "                roots.append(root)\n",
        "        x_start += step\n",
        "    return roots\n",
        "\n",
        "def bisection(coefficients, a, b, tolerance):\n",
        "    \"\"\"\n",
        "    Find a root of the quartic equation within the interval [a, b] using bisection method\n",
        "    \"\"\"\n",
        "    fa = f(a, coefficients)\n",
        "    fb = f(b, coefficients)\n",
        "    if fa * fb > 0:\n",
        "        return None  # No root exists within the interval [a, b]\n",
        "    while b - a > tolerance:\n",
        "        c = (a + b) / 2\n",
        "        fc = f(c, coefficients)\n",
        "        if fc == 0:\n",
        "            return c\n",
        "        elif fa * fc < 0:\n",
        "            b = c\n",
        "            fb = fc\n",
        "        else:\n",
        "            a = c\n",
        "            fa = fc\n",
        "    return (a + b) / 2\n",
        "\n",
        "coefficients = [9, 14, 32, -41, 5]\n",
        "roots = find_roots(coefficients)\n",
        "print(\"Roots of the quartic equation:\", roots)\n",
        "\n"
      ]
    },
    {
      "cell_type": "markdown",
      "metadata": {
        "id": "R76UxdUWe3GL"
      },
      "source": [
        "- f(x) = a * x ** 4 + b * x ** 3 + c * x ** 2 + d * x + e  at the given value of x. It takes two arguments x and coefficients. It returns the value of x.\n",
        "- bisection(coefficients, a, b, tolerance): This function implements the bisection method to find a root of the quartic equation within a given interval\n",
        "[a,b]. It takes four arguments: coefficients (the coefficients of the quartic equation), a (the lower bound of the interval), b (the upper bound of the interval), and tolerance (the desired tolerance for the root). It returns the approximate root found within the interval, or None if no root is found within the specified tolerance.\n",
        "- find_roots(coefficients, interval=(-10, 10), tolerance=1e-6) : This function finds roots of the quartic equation within a given interval using the bisection method. It takes three arguments: coefficients (the coefficients of the quartic equation), interval (a tuple specifying the interval within which to search for for the roots, with a default value of [−10,10]), and tolerance (the desired tolerance for the root, with a default value of 10^-6. It returns a list of approximate roots found within the specified interval and tolerance.\n",
        "\n",
        "-The main part of the code initializes the coefficients of the quartic equation and calls the find_roots() function to find the roots within the default interval [−10,10] with a tolerance of 10^-6. Finally, it prints the roots found."
      ]
    },
    {
      "cell_type": "markdown",
      "metadata": {
        "id": "SlIri-wkQAOb"
      },
      "source": [
        "30. Write a program that calculates the BMI (Body Mass Index) and provides health recommendations based\n",
        "on the user's input.\n",
        "\n"
      ]
    },
    {
      "cell_type": "code",
      "execution_count": null,
      "metadata": {
        "colab": {
          "base_uri": "https://localhost:8080/"
        },
        "id": "_MD6aGw3QD-a",
        "outputId": "f12e87d0-9d32-446f-c75a-b520383aa346"
      },
      "outputs": [
        {
          "name": "stdout",
          "output_type": "stream",
          "text": [
            "Enter your weight in kilograms: 67\n",
            "Enter your height in meters: 5.10\n",
            "Your BMI is : 2.575932333717801\n",
            "Your are Underweight\n"
          ]
        }
      ],
      "source": [
        "def calculate_bmi(weight, height):\n",
        "  return weight / (height ** 2)\n",
        "\n",
        "def categorize_bmi(bmi):\n",
        "  if bmi < 18.5:\n",
        "    return \"Underweight\"\n",
        "  elif bmi < 25:\n",
        "    return \"Normal\"\n",
        "  elif bmi < 30:\n",
        "    return \"Overweight\"\n",
        "  else:\n",
        "    return \"Obese\"\n",
        "\n",
        "weight = float(input(\"Enter your weight in kilograms: \"))\n",
        "height = float(input(\"Enter your height in meters: \"))\n",
        "bmi = calculate_bmi(weight, height)\n",
        "category = categorize_bmi(bmi)\n",
        "\n",
        "print(\"Your BMI is :\", bmi)\n",
        "print(\"Your are\", category)"
      ]
    },
    {
      "cell_type": "markdown",
      "metadata": {
        "id": "nBymWA9RQEdm"
      },
      "source": [
        "31. Create a program that validates a password based on complexity rules (length, characters, etc.).\n"
      ]
    },
    {
      "cell_type": "code",
      "execution_count": null,
      "metadata": {
        "colab": {
          "base_uri": "https://localhost:8080/"
        },
        "id": "U5PpbkhUP9U3",
        "outputId": "06d84e30-0517-486b-933d-9203f0d0541f"
      },
      "outputs": [
        {
          "name": "stdout",
          "output_type": "stream",
          "text": [
            "enter the length of the password: 8\n",
            "Enter the complexity level (low, medium, or high) :medium\n",
            "Generated password: : u ] b k v L \\\n"
          ]
        }
      ],
      "source": [
        "import random\n",
        "import string\n",
        "\n",
        "def generate_password(length, complexity):\n",
        "  if complexity == 'low':\n",
        "    characters = string.ascii_letters + string.digits\n",
        "  elif complexity == 'medium':\n",
        "    characters = string.ascii_letters + string.digits + string.punctuation\n",
        "  elif complexity == 'high':\n",
        "    characters = string.ascii_letters + string.digits + string.punctuation + string.ascii_uppercase + string.ascii_lowercase\n",
        "  else:\n",
        "    print(\"Invalid Complexity level. Please choose 'low', 'medium', 'high'.\")\n",
        "\n",
        "\n",
        "  password = ' '.join(random.choice(characters) for _ in range(length))\n",
        "  return password\n",
        "\n",
        "length = int(input(\"enter the length of the password: \"))\n",
        "complexity = input(\"Enter the complexity level (low, medium, or high) :\").lower()\n",
        "\n",
        "password = generate_password(length, complexity)\n",
        "if password:\n",
        "    print(\"Generated password:\", password)\n",
        "\n",
        "\n",
        "\n"
      ]
    },
    {
      "cell_type": "markdown",
      "metadata": {
        "id": "Zq6rv7F9QHMT"
      },
      "source": [
        "32. Develop a program that performs matrix addition and subtraction based on user input.\n"
      ]
    },
    {
      "cell_type": "code",
      "execution_count": null,
      "metadata": {
        "colab": {
          "base_uri": "https://localhost:8080/"
        },
        "id": "fQQ5wuYUQJLW",
        "outputId": "7fbc77b2-28d3-4850-dcba-7dda12390722"
      },
      "outputs": [
        {
          "name": "stdout",
          "output_type": "stream",
          "text": [
            "Enter the number of rows for the matrices: 6\n",
            "Enter the number of columns for the matrices: 2\n",
            "Input the first matrix:\n",
            "Enter the elemennts of the matrix: \n",
            "Enter the element at position (1, 1): 1\n",
            "Enter the element at position (1, 2): 2\n",
            "Enter the element at position (2, 1): 4\n",
            "Enter the element at position (2, 2): 9\n",
            "Enter the element at position (3, 1): 7\n",
            "Enter the element at position (3, 2): 9\n",
            "Enter the element at position (4, 1): 8\n",
            "Enter the element at position (4, 2): 9\n",
            "Enter the element at position (5, 1): 33\n",
            "Enter the element at position (5, 2): 55\n",
            "Enter the element at position (6, 1): 22\n",
            "Enter the element at position (6, 2): 44\n",
            "Input the second matrix:\n",
            "Enter the elemennts of the matrix: \n",
            "Enter the element at position (1, 1): 555\n",
            "Enter the element at position (1, 2): 555\n",
            "Enter the element at position (2, 1): 5555555\n",
            "Enter the element at position (2, 2): 222\n",
            "Enter the element at position (3, 1): 445\n",
            "Enter the element at position (3, 2): 443\n",
            "Enter the element at position (4, 1): 354\n",
            "Enter the element at position (4, 2): 543\n",
            "Enter the element at position (5, 1): 43\n",
            "Enter the element at position (5, 2): 43\n",
            "Enter the element at position (6, 1): 43\n",
            "Enter the element at position (6, 2): 667\n",
            "Matrix Addition:\n",
            "[556.0, 557.0]\n",
            "[5555559.0, 231.0]\n",
            "[452.0, 452.0]\n",
            "[362.0, 552.0]\n",
            "[76.0, 98.0]\n",
            "[65.0, 711.0]\n",
            "\n",
            "Matrix Subtraction:\n",
            "[-554.0, -553.0]\n",
            "[-5555551.0, -213.0]\n",
            "[-438.0, -434.0]\n",
            "[-346.0, -534.0]\n",
            "[-10.0, 12.0]\n",
            "[-21.0, -623.0]\n"
          ]
        }
      ],
      "source": [
        "def matrix_addition(matrix1, matrix2):\n",
        "  #Perform matrix addition.\n",
        "  if len(matrix1) != len(matrix2) or len(matrix1[0]) != len(matrix2[0]):\n",
        "      print(\"Error: Matrices must have the same dimension for addition.\")\n",
        "      return None\n",
        "  result = []\n",
        "  for i in range(len(matrix1)):\n",
        "    row = []\n",
        "    for j in range(len(matrix1[0])):\n",
        "      row.append(matrix1[i][j] + matrix2[i][j])\n",
        "    result.append(row)\n",
        "  return result\n",
        "\n",
        "def matrix_substraction(matrix1, matrix2):\n",
        "  #Perform matrix substraction.\n",
        "  if len(matrix1) != len(matrix2) or len(matrix1[0]) != len(matrix2[0]):\n",
        "      print(\"Error: Matrices must have the same dimension for substraction.\")\n",
        "      return None\n",
        "  result = []\n",
        "  for i in range(len(matrix1)):\n",
        "    row = []\n",
        "    for j in range(len(matrix1[0])):\n",
        "      row.append(matrix1[i][j] - matrix2[i][j])\n",
        "    result.append(row)\n",
        "  return result\n",
        "\n",
        "\n",
        "def input_matrix(rows, columns):\n",
        "  # Input a matrix from the user.\n",
        "  matrix = []\n",
        "  print(\"Enter the elemennts of the matrix: \")\n",
        "  for i in range(rows):\n",
        "    row = []\n",
        "    for j in range(columns):\n",
        "      element = float(input(f\"Enter the element at position ({i+1}, {j+1}): \"))\n",
        "      row.append(element)\n",
        "    matrix.append(row)\n",
        "  return matrix\n",
        "\n",
        "def print_matrix(matrix):\n",
        "    #Print a matrix.\n",
        "    for row in matrix:\n",
        "        print(row)\n",
        "\n",
        "# Input dimensions of matrices\n",
        "rows = int(input(\"Enter the number of rows for the matrices: \"))\n",
        "columns = int(input(\"Enter the number of columns for the matrices: \"))\n",
        "\n",
        "# Input matrices from the user\n",
        "print(\"Input the first matrix:\")\n",
        "matrix1 = input_matrix(rows, columns)\n",
        "print(\"Input the second matrix:\")\n",
        "matrix2 = input_matrix(rows, columns)\n",
        "\n",
        "# Perfect_addition_result = matrix_addition(matrix1, matrix2)\n",
        "addition_result = matrix_addition(matrix1, matrix2)\n",
        "subtraction_result = matrix_substraction(matrix1, matrix2)\n",
        "\n",
        "# Print the results\n",
        "print(\"Matrix Addition:\")\n",
        "print_matrix(addition_result)\n",
        "print(\"\\nMatrix Subtraction:\")\n",
        "print_matrix(subtraction_result)"
      ]
    },
    {
      "cell_type": "markdown",
      "metadata": {
        "id": "VbTL0SICQJn0"
      },
      "source": [
        "33. Write a program that calculates the greatest common divisor (GCD) of two numbers using the Euclidean\n",
        "algorithm.\n"
      ]
    },
    {
      "cell_type": "code",
      "execution_count": null,
      "metadata": {
        "colab": {
          "base_uri": "https://localhost:8080/"
        },
        "id": "dg7CIfUvQLe0",
        "outputId": "1470442f-11b0-43e4-ee7f-b3f371747ba6"
      },
      "outputs": [
        {
          "name": "stdout",
          "output_type": "stream",
          "text": [
            "Enter the first number: 5\n",
            "Enter the second number: 7\n",
            "The GCD of 5 and 7 is: 1\n"
          ]
        }
      ],
      "source": [
        "def gcd(a, b):\n",
        "  while b != 0:\n",
        "    a, b = b, a % b\n",
        "  return a\n",
        "\n",
        "num1 = int(input(\"Enter the first number: \"))\n",
        "num2 = int(input(\"Enter the second number: \"))\n",
        "\n",
        "result = gcd(num1, num2)\n",
        "print(\"The GCD of\", num1, \"and\", num2, \"is:\", result)\n"
      ]
    },
    {
      "cell_type": "markdown",
      "metadata": {
        "id": "kkTNfjlcQL_Z"
      },
      "source": [
        "34. Build a program that performs matrix multiplication using nested loops and conditional statements.\n"
      ]
    },
    {
      "cell_type": "code",
      "execution_count": null,
      "metadata": {
        "colab": {
          "base_uri": "https://localhost:8080/"
        },
        "id": "NX9rtduLQNzf",
        "outputId": "88aede50-727b-4eb3-fe7a-8966556e6170"
      },
      "outputs": [
        {
          "name": "stdout",
          "output_type": "stream",
          "text": [
            "Enter the number of rows for the first matrix: 2\n",
            "Enter the number of columns for the first matrix: 2\n",
            "Enter the number of rows for the second matrix: 2\n",
            "Enter the number of columns for the second matrix: 2\n",
            "Input the first matrix:\n",
            "Enter the elements of the matrix:\n",
            "Enter element at position (1,1): 1\n",
            "Enter element at position (1,2): 2\n",
            "Enter element at position (2,1): 3\n",
            "Enter element at position (2,2): 4\n",
            "Input the second matrix:\n",
            "Enter the elements of the matrix:\n",
            "Enter element at position (1,1): 5\n",
            "Enter element at position (1,2): 6\n",
            "Enter element at position (2,1): 7\n",
            "Enter element at position (2,2): 8\n",
            "Matrix Multiplication Result:\n",
            "[19.0, 22.0]\n",
            "[43.0, 50.0]\n"
          ]
        }
      ],
      "source": [
        "def matrix_multiplication(matrix1, matrix2):\n",
        "    # Perform matrix multiplication.\n",
        "    if len(matrix1[0]) != len(matrix2):\n",
        "        print(\"Error: Number of columns in the first matrix must be equal to the number of rows in the second matrix.\")\n",
        "        return None\n",
        "\n",
        "    result = [[0 for _ in range(len(matrix2[0]))] for _ in range(len(matrix1))]\n",
        "\n",
        "    for i in range(len(matrix1)):\n",
        "        for j in range(len(matrix2[0])):\n",
        "            for k in range(len(matrix2)):\n",
        "                result[i][j] += matrix1[i][k] * matrix2[k][j]\n",
        "\n",
        "    return result\n",
        "\n",
        "def input_matrix(rows, columns):\n",
        "  # Input a matrix from the user.\n",
        "    matrix = []\n",
        "    print(\"Enter the elements of the matrix:\")\n",
        "    for i in range(rows):\n",
        "        row = []\n",
        "        for j in range(columns):\n",
        "            element = float(input(f\"Enter element at position ({i+1},{j+1}): \"))\n",
        "            row.append(element)\n",
        "        matrix.append(row)\n",
        "    return matrix\n",
        "\n",
        "def print_matrix(matrix):\n",
        "  #Print a matrix.\n",
        "    for row in matrix:\n",
        "        print(row)\n",
        "\n",
        "# Input dimensions of matrices\n",
        "rows1 = int(input(\"Enter the number of rows for the first matrix: \"))\n",
        "columns1 = int(input(\"Enter the number of columns for the first matrix: \"))\n",
        "rows2 = int(input(\"Enter the number of rows for the second matrix: \"))\n",
        "columns2 = int(input(\"Enter the number of columns for the second matrix: \"))\n",
        "\n",
        "# Input matrices from the user\n",
        "print(\"Input the first matrix:\")\n",
        "matrix1 = input_matrix(rows1, columns1)\n",
        "print(\"Input the second matrix:\")\n",
        "matrix2 = input_matrix(rows2, columns2)\n",
        "\n",
        "# Perform matrix multiplication\n",
        "result = matrix_multiplication(matrix1, matrix2)\n",
        "\n",
        "# Print the result\n",
        "print(\"Matrix Multiplication Result:\")\n",
        "print_matrix(result)\n"
      ]
    },
    {
      "cell_type": "markdown",
      "metadata": {
        "id": "QRmRbXtEQOJ5"
      },
      "source": [
        "35. Create a program that simulates a basic text-based tic-tac-toe game against the computer.\n"
      ]
    },
    {
      "cell_type": "code",
      "execution_count": null,
      "metadata": {
        "colab": {
          "background_save": true,
          "base_uri": "https://localhost:8080/"
        },
        "id": "IFos2ADZQP4W",
        "outputId": "32e7d2c3-f533-4646-c5bc-933d806840f2"
      },
      "outputs": [
        {
          "name": "stdout",
          "output_type": "stream",
          "text": [
            " | | \n",
            "-----\n",
            " | | \n",
            "-----\n",
            " | | \n",
            "-----\n"
          ]
        }
      ],
      "source": [
        "import random\n",
        "\n",
        "def print_board(board):\n",
        "  for row in board:\n",
        "    print(\"|\".join(row))\n",
        "    print(\"-\" * 5)\n",
        "\n",
        "def check_win(board, player):\n",
        "  for row in board:\n",
        "    if all(cell == player for cell in row):\n",
        "      return True\n",
        "  for col in range(3):\n",
        "    if all(board[row][col] == player for row in range(3)):\n",
        "      return True\n",
        "  if all(board[i][i] == player for i in range(3)):\n",
        "    return True\n",
        "  if all(board[i][2 - i] == player for i in range(3)):\n",
        "    return True\n",
        "  return False\n",
        "\n",
        "def available_moves(board):\n",
        "  return[(i, j) for i in range(3) for j in range (3) if board[i][j] ]\n",
        "\n",
        "def computer_move(board):\n",
        "  return random.choice(available_moves(board))\n",
        "\n",
        "def main():\n",
        "    board = [[\" \" for _ in range(3)] for _ in range(3)]\n",
        "    player = \"X\"\n",
        "    while True:\n",
        "        print_board(board)\n",
        "        if check_win(board, \"X\"):\n",
        "            print(\"You win!\")\n",
        "            break\n",
        "        elif check_win(board, \"O\"):\n",
        "            print(\"Computer wins!\")\n",
        "            break\n",
        "        elif all(cell != \" \" for row in board for cell in row):\n",
        "            print(\"It's a draw!\")\n",
        "            break\n",
        "        if player == \"X\":\n",
        "            while True:\n",
        "                row = int(input(\"Enter row (1-3): \")) - 1\n",
        "                col = int(input(\"Enter column (1-3): \")) - 1\n",
        "                if 0 <= row < 3 and 0 <= col < 3 and board[row][col] == \" \":\n",
        "                    board[row][col] = \"X\"\n",
        "                    break\n",
        "                else:\n",
        "                    print(\"Invalid move. Try again.\")\n",
        "        else:\n",
        "            row, col = computer_move(board)\n",
        "            board[row][col] = \"O\"\n",
        "            print(\"Computer placed an 'O' at row\", row + 1, \"and column\", col + 1)\n",
        "        player = \"X\" if player == \"O\" else \"O\"\n",
        "\n",
        "if __name__ == \"__main__\":\n",
        "    main()\n"
      ]
    },
    {
      "cell_type": "markdown",
      "metadata": {
        "id": "mUBII3Z2QQOd"
      },
      "source": [
        "36. Write a program that generates Fibonacci numbers up to a specified term using iterative methods.\n"
      ]
    },
    {
      "cell_type": "code",
      "execution_count": null,
      "metadata": {
        "id": "pFdjSJ9rQSg1"
      },
      "outputs": [],
      "source": [
        "def generate_fibonacci(n):\n",
        "    fibonacci_sequence = [0, 1]  # Initialize the sequence with the first two Fibonacci numbers\n",
        "\n",
        "    if n <= 0:\n",
        "        return \"Please enter a positive integer.\"\n",
        "    elif n == 1:\n",
        "        return [0]\n",
        "    elif n == 2:\n",
        "        return fibonacci_sequence\n",
        "\n",
        "    for i in range(2, n):\n",
        "        next_number = fibonacci_sequence[-1] + fibonacci_sequence[-2]  # Calculate the next Fibonacci number\n",
        "        fibonacci_sequence.append(next_number)  # Add the next Fibonacci number to the sequence\n",
        "\n",
        "    return fibonacci_sequence\n",
        "\n",
        "# Input the number of terms\n",
        "n = int(input(\"Enter the number of Fibonacci terms to generate: \"))\n",
        "\n",
        "# Generate the Fibonacci sequence\n",
        "fibonacci_sequence = generate_fibonacci(n)\n",
        "\n",
        "# Output the sequence\n",
        "print(\"Fibonacci sequence up to term\", n, \":\", fibonacci_sequence)"
      ]
    },
    {
      "cell_type": "markdown",
      "metadata": {
        "id": "X9WFnF9dQS4e"
      },
      "source": [
        "37. Develop a program that calculates the nth term of the Fibonacci sequence using memoization.\n"
      ]
    },
    {
      "cell_type": "code",
      "execution_count": null,
      "metadata": {
        "id": "BPmN0nc9QUd1"
      },
      "outputs": [],
      "source": [
        "def fibonacci(n, memo={}):\n",
        "    if n in memo:\n",
        "        return memo[n]\n",
        "    if n <= 1:\n",
        "        return n\n",
        "    memo[n] = fibonacci(n - 1, memo) + fibonacci(n - 2, memo)\n",
        "    return memo[n]\n",
        "\n",
        "# Input the term of the Fibonacci sequence to calculate\n",
        "n = int(input(\"Enter the term of the Fibonacci sequence to calculate: \"))\n",
        "\n",
        "# Calculate the nth Fibonacci term\n",
        "result = fibonacci(n)\n",
        "\n",
        "# Output the result\n",
        "print(\"The\", n, \"th term of the Fibonacci sequence is:\", result)\n"
      ]
    },
    {
      "cell_type": "markdown",
      "metadata": {
        "id": "xmS46ldiQU1w"
      },
      "source": [
        "38. Create a program that generates a calendar for a given month and year using conditional statements.\n"
      ]
    },
    {
      "cell_type": "code",
      "execution_count": null,
      "metadata": {
        "colab": {
          "base_uri": "https://localhost:8080/"
        },
        "id": "7TjTVwEvQXJd",
        "outputId": "3768bd6e-56ee-45fe-bf18-8f726d294461"
      },
      "outputs": [
        {
          "name": "stdout",
          "output_type": "stream",
          "text": [
            "Enter the mont (1 -12): 12\n",
            "Enter the yerar1999\n",
            "                     12/1999\n",
            "Su Mo Tu We Th Fr Sa\n",
            "             1 \n",
            " 2  3  4  5  6  7  8 \n",
            " 9 10 11 12 13 14 15 \n",
            "16 17 18 19 20 21 22 \n",
            "23 24 25 26 27 28 29 \n",
            "30 "
          ]
        }
      ],
      "source": [
        "def leap_(year):\n",
        "  if (year % 4 == 0 and year % 100 != 0) or (year % 400 == 0):\n",
        "    return True\n",
        "  else:\n",
        "    return False\n",
        "\n",
        "def get_days_in_month(month, year):\n",
        "  #Get the number of days in a given month and year.\n",
        "  if month in [1, 3, 5, 7, 8, 10, 12]:\n",
        "    return 31\n",
        "  elif month in [4, 6, 9, 11]:\n",
        "    return 30\n",
        "  elif month == 2 and is_leap_year(year):\n",
        "    return 29\n",
        "  else:\n",
        "    return 28\n",
        "\n",
        "def generate_calender(month, year):\n",
        "  # Generate a calendar for a given month and year.\n",
        "  #print month and year\n",
        "  print(f\"{' ' * 20} {month}/{year}\")\n",
        "  print(\"Su Mo Tu We Th Fr Sa\")\n",
        "\n",
        "  # Get the day of the week for the first day of the month\n",
        "  # (0 - Sunday, 1 - Monday, ..., 6 - Saturday)\n",
        "  first_day_of_month = (get_day_of_week(1, month, year) + 1) % 7\n",
        "# Get the number of days in the month\n",
        "  days_in_month = get_days_in_month(month, year)\n",
        "\n",
        "  # Print the calendar\n",
        "  for i in range(first_day_of_month):\n",
        "    print(\" \", end=\" \")\n",
        "  for day in range(1, days_in_month):\n",
        "    print(f\"{day:2}\", end=\" \")\n",
        "    if (first_day_of_month + day) % 7 == 0:\n",
        "      print() # Move to the next line after printing each week\n",
        "\n",
        "def get_day_of_week(day, month, year):\n",
        "  #Get the day of the week for a given date using Zeller's Congruence.\n",
        "  if month < 3:\n",
        "    month += 12\n",
        "    year -= 1\n",
        "  k = year % 100\n",
        "  j = year // 100\n",
        "  return (day + ((13 * (month + 1)) // 5) + k + (k + (k // 4) + (j // 4) - (2 * j )) % 7)\n",
        "\n",
        "\n",
        "#Drive Code\n",
        "month = int(input(\"Enter the mont (1 -12): \"))\n",
        "year= int(input(\"Enter the yerar\"))\n",
        "generate_calender(month, year)"
      ]
    },
    {
      "cell_type": "code",
      "execution_count": null,
      "metadata": {
        "id": "SteLpP0gVwbM"
      },
      "outputs": [],
      "source": []
    },
    {
      "cell_type": "markdown",
      "metadata": {
        "id": "WS0h3-leQXkw"
      },
      "source": [
        "39. Build a program that simulates a basic text-based blackjack game against the computer.\n"
      ]
    },
    {
      "cell_type": "code",
      "execution_count": null,
      "metadata": {
        "colab": {
          "base_uri": "https://localhost:8080/"
        },
        "id": "x5W3SA7aQZgb",
        "outputId": "e737a23d-9864-46ac-a124-72b760cc29fb"
      },
      "outputs": [
        {
          "name": "stdout",
          "output_type": "stream",
          "text": [
            "Your cards:  [6, 2]\n",
            "Computer's cards:  11\n",
            "Do you want to hit or stand? (h/s): h\n",
            "Your card: [6, 2, 7]\n",
            "Do you want to hit or stand? (h/s): h\n",
            "Your card: [6, 2, 7, 6]\n",
            "BlackJack! You win!\n"
          ]
        }
      ],
      "source": [
        "import random\n",
        "\n",
        "def deal_card():\n",
        "  #Deal a random card.\n",
        "  cards = [2, 3, 4, 5, 6, 7, 10,10, 10, 10, 11] * 4\n",
        "  return random.choice(cards)\n",
        "\n",
        "def calculate_score(cards):\n",
        "\n",
        "  # calculate the total score of a hand\n",
        "  score = sum(cards)\n",
        "  if score > 21 and 11 in cards:\n",
        "\n",
        "  # If score is over 21 but there's an 11, treat it as 1 instead\n",
        "    cards.remove(11)\n",
        "    cards.append(1)\n",
        "    score = sum(cards)\n",
        "  return score\n",
        "\n",
        "\n",
        "def blackjack():\n",
        "  #Play a game of Blackjack.\n",
        "  player_cards = [deal_card(), deal_card()]\n",
        "  computer_cards = [deal_card()]\n",
        "\n",
        "  print(\"Your cards: \", player_cards)\n",
        "  print(\"Computer's cards: \", computer_cards[0])\n",
        "\n",
        "  # Player's turn\n",
        "  while True:\n",
        "    player_score = calculate_score(player_cards)\n",
        "    if player_score == 21:\n",
        "      print(\"BlackJack! You win!\")\n",
        "      return\n",
        "    elif player_score > 21:\n",
        "      print(\"You lose!\")\n",
        "      return\n",
        "\n",
        "    choice = input(\"Do you want to hit or stand? (h/s): \").lower()\n",
        "    if choice == 'h':\n",
        "      player_cards.append(deal_card())\n",
        "      print(\"Your card:\", player_cards)\n",
        "    elif choice == 's':\n",
        "      break\n",
        "\n",
        "    # Computer's turn\n",
        "      while calculate_score(computer_cards) < 17:\n",
        "        computer_cards.append(deal_card())\n",
        "\n",
        "      # Determine the winner\n",
        "      player_score = calculate_score(player_cards)\n",
        "      computer_score = calculate_score(computer_cards)\n",
        "\n",
        "      print(\"Your final hand:\", player_cards)\n",
        "      print(\"Computer's final hand:\", computer_cards)\n",
        "\n",
        "      if player_score > 21:\n",
        "        print(\" You lose!\")\n",
        "      elif computer_score > 21:\n",
        "        print(\"Computer busted! You win!\")\n",
        "      elif player_score > computer_score:\n",
        "        print(\"You win!\")\n",
        "      elif player_score < computer_score:\n",
        "        print(\"You lose!\")\n",
        "      else:\n",
        "        print(\"It's a tie!\")\n",
        "\n",
        "blackjack()\n"
      ]
    },
    {
      "cell_type": "markdown",
      "metadata": {
        "id": "sNtX2bEMQaBi"
      },
      "source": [
        "40. Write a program that generates the prime factors of a given number using trial division."
      ]
    },
    {
      "cell_type": "code",
      "execution_count": null,
      "metadata": {
        "colab": {
          "base_uri": "https://localhost:8080/"
        },
        "id": "fGfpWJzNQazv",
        "outputId": "08bc3006-fb5a-4b07-805e-17d64f45a768"
      },
      "outputs": [
        {
          "name": "stdout",
          "output_type": "stream",
          "text": [
            "Enter a number: 24\n",
            "Prime factors of 24 are: [2, 2, 2, 3]\n"
          ]
        }
      ],
      "source": [
        "def prime_factors(n):\n",
        "    factors = []\n",
        "    divisor = 2  # Start with the smallest prime number\n",
        "\n",
        "    while n > 1:\n",
        "        # Check if current divisor is a factor of n\n",
        "        while n % divisor == 0:\n",
        "            factors.append(divisor)\n",
        "            n //= divisor  # Update n by dividing it by the divisor\n",
        "\n",
        "        # Move to the next divisor\n",
        "        divisor += 1\n",
        "\n",
        "    return factors\n",
        "\n",
        "number = int(input(\"Enter a number: \"))\n",
        "factors = prime_factors(number)\n",
        "if factors:\n",
        "    print(\"Prime factors of\", number, \"are:\", factors)\n",
        "else:\n",
        "    print(number, \"is a prime number.\")\n"
      ]
    },
    {
      "cell_type": "code",
      "execution_count": null,
      "metadata": {
        "id": "Shw0Jc-flDXi"
      },
      "outputs": [],
      "source": []
    }
  ],
  "metadata": {
    "colab": {
      "provenance": []
    },
    "kernelspec": {
      "display_name": "Python 3",
      "name": "python3"
    },
    "language_info": {
      "name": "python"
    }
  },
  "nbformat": 4,
  "nbformat_minor": 0
}